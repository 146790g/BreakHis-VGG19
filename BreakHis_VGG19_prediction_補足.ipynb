{
  "nbformat": 4,
  "nbformat_minor": 0,
  "metadata": {
    "kernelspec": {
      "display_name": "Python 3",
      "language": "python",
      "name": "python3"
    },
    "language_info": {
      "codemirror_mode": {
        "name": "ipython",
        "version": 3
      },
      "file_extension": ".py",
      "mimetype": "text/x-python",
      "name": "python",
      "nbconvert_exporter": "python",
      "pygments_lexer": "ipython3",
      "version": "3.6.10"
    },
    "colab": {
      "name": "BreakHis_VGG19_prediction 補足.ipynb",
      "provenance": [],
      "collapsed_sections": [],
      "include_colab_link": true
    },
    "accelerator": "GPU"
  },
  "cells": [
    {
      "cell_type": "markdown",
      "metadata": {
        "id": "view-in-github",
        "colab_type": "text"
      },
      "source": [
        "<a href=\"https://colab.research.google.com/github/146790g/VGG19-BreakHis/blob/master/BreakHis_VGG19_prediction_%E8%A3%9C%E8%B6%B3.ipynb\" target=\"_parent\"><img src=\"https://colab.research.google.com/assets/colab-badge.svg\" alt=\"Open In Colab\"/></a>"
      ]
    },
    {
      "cell_type": "markdown",
      "metadata": {
        "id": "Aos1i1OBdV3W",
        "colab_type": "text"
      },
      "source": [
        "# 深層学習 VGG19モデルを用いた乳がん染色画像（BreakHis）の解析のための準備\n",
        "#（その2 : Visual Predictive Check 補足編）\n",
        "##  Deep Learning for Magnification Independent Breast Cancer Histopathology\n",
        "## Image Classification using VGG19 Model - Visual Predictive Check\n",
        "\n",
        "\n",
        "\n",
        "<h2>対象データは、こちらをクリック</>\n",
        "<a href='https://www.kaggle.com/ambarish/breakhis'>Kaggle BreakHis Data</a>\n",
        "\n",
        "４つのMagnification levelのデータをすべて合算して、解析する\n",
        "\n",
        "<br>\n",
        "\n",
        "## 4 Magnification Levels: ×40, ×100, ×200, ×400\n",
        "\n",
        "\n",
        "During analysis and annotation, pathologists starts by identifying ROIs in\n",
        "the lowest magnification level slide (×40), then dives deeper in the latter using higher magnification levels (×100, ×200) until having a profound insight\n",
        "(×400). \n",
        "\n",
        "<br>\n",
        "\n",
        "## データ数 の概要\n",
        "\n",
        "・Training Data: 5026 images <br>\n",
        "  -- Benign Data: 1472 images <br>\n",
        "  -- Mallignant Data: 3554 images \n",
        "\n",
        "・Validation Data: 2904 images <br>\n",
        "  -- Benign Data: 1008 images <br>\n",
        "  -- Mallignant Data:1896 images <br>\n",
        "\n",
        "## Data Set Details by Magnification levels.\n",
        "\n",
        " ×40 : <br>\n",
        "×100 : <br>\n",
        "×200 : <br>\n",
        "×400 : <br>"
      ]
    },
    {
      "cell_type": "code",
      "metadata": {
        "id": "MjZpD7wcfTPA",
        "colab_type": "code",
        "colab": {}
      },
      "source": [
        "%tensorflow_version 2.x"
      ],
      "execution_count": 1,
      "outputs": []
    },
    {
      "cell_type": "code",
      "metadata": {
        "id": "dIVAoJRwTq1x",
        "colab_type": "code",
        "colab": {
          "base_uri": "https://localhost:8080/",
          "height": 34
        },
        "outputId": "6f5bae56-3771-4aa4-cd66-41e986a58042"
      },
      "source": [
        "%pwd\n",
        "from google.colab import drive\n",
        "drive.mount('/content/gdrive')"
      ],
      "execution_count": 9,
      "outputs": [
        {
          "output_type": "stream",
          "text": [
            "Drive already mounted at /content/gdrive; to attempt to forcibly remount, call drive.mount(\"/content/gdrive\", force_remount=True).\n"
          ],
          "name": "stdout"
        }
      ]
    },
    {
      "cell_type": "code",
      "metadata": {
        "id": "mjdqpKr_VU7-",
        "colab_type": "code",
        "colab": {
          "base_uri": "https://localhost:8080/",
          "height": 68
        },
        "outputId": "6e22a8db-0c81-4952-9b46-40ab79638278"
      },
      "source": [
        "!ls -lh '/content/gdrive/My Drive/Colab Notebooks/BreakHis/data'"
      ],
      "execution_count": 10,
      "outputs": [
        {
          "output_type": "stream",
          "text": [
            "total 8.0K\n",
            "drwx------ 2 root root 4.0K Jul 21 03:42 train\n",
            "drwx------ 2 root root 4.0K Jul 27 01:49 validation\n"
          ],
          "name": "stdout"
        }
      ]
    },
    {
      "cell_type": "code",
      "metadata": {
        "id": "PM4Bw3tFdESi",
        "colab_type": "code",
        "colab": {}
      },
      "source": [
        "from keras.applications.vgg19 import VGG19\n",
        "from keras.preprocessing.image import ImageDataGenerator,load_img\n",
        "import numpy as np\n",
        "import os\n",
        "#import Pillow\n",
        "#from PIL import Image\n",
        "#import opencv\n",
        "from PIL import Image\n",
        "from keras.preprocessing.image import load_img, save_img, img_to_array, array_to_img\n",
        "import numpy as np\n",
        "from pandas import DataFrame\n",
        "import matplotlib.pyplot as plt\n",
        "\n",
        "import tensorflow as tf\n",
        "from tensorflow.keras import layers, models, initializers\n",
        "\n",
        "from keras.models import Sequential, Model\n",
        "from keras.layers import Input, Activation, Dropout, Flatten, Dense\n",
        "from keras.preprocessing.image import ImageDataGenerator\n",
        "from keras import optimizers\n",
        "import numpy as np\n",
        "\n",
        "\n",
        "train_data_dir = '/content/gdrive/My Drive/Colab Notebooks/BreakHis/data/train' # Training Data のフォルダー\n",
        "validation_data_dir = '/content/gdrive/My Drive/Colab Notebooks/BreakHis/data/validation' # Validation Data のフォルダー\n",
        "result_dir = '/content/gdrive/My Drive/Colab Notebooks/BreakHis/results'        # VGG19の出力結果を保存するフォルダー\n",
        "test_dir = '/content/gdrive/My Drive/Colab Notebooks/BreakHis/test'\n",
        "    \n"
      ],
      "execution_count": 11,
      "outputs": []
    },
    {
      "cell_type": "code",
      "metadata": {
        "id": "sx90kR9B58qT",
        "colab_type": "code",
        "colab": {
          "base_uri": "https://localhost:8080/",
          "height": 901
        },
        "outputId": "90f1dfef-4c8a-49c1-a8b9-db8ca70cc94f"
      },
      "source": [
        "   \n",
        "normal_files=os.listdir(os.path.join(test_dir,'benign'))\n",
        "\n",
        "filename=os.path.join(test_dir,'benign',normal_files[0])\n",
        "\n",
        "print(filename)\n",
        "  \n",
        "img_h, img_w =400, 400\n",
        "    \n",
        "channels = 3\n",
        "\n",
        "img = image.load_img(\n",
        "    filename,\n",
        "    target_size=(img_h, img_w))\n",
        "\n",
        "x = image.img_to_array(img)\n",
        "\n",
        "x = np.expand_dims(x, axis=0)\n",
        "\n",
        "x = x / 255.0\n",
        "\n",
        "print(x)\n",
        "print(type(x))\n",
        "print(x.shape)\n",
        "\n",
        "    "
      ],
      "execution_count": 15,
      "outputs": [
        {
          "output_type": "stream",
          "text": [
            "/content/gdrive/My Drive/Colab Notebooks/BreakHis/test/benign/SOB_B_A-14-22549G-200-029.png\n",
            "[[[[0.827451   0.8235294  0.8039216 ]\n",
            "   [0.84313726 0.84313726 0.8117647 ]\n",
            "   [0.84313726 0.8235294  0.8117647 ]\n",
            "   ...\n",
            "   [0.7764706  0.67058825 0.8       ]\n",
            "   [0.7490196  0.6509804  0.7647059 ]\n",
            "   [0.6666667  0.60784316 0.69803923]]\n",
            "\n",
            "  [[0.83137256 0.827451   0.8117647 ]\n",
            "   [0.84313726 0.8392157  0.81960785]\n",
            "   [0.85490197 0.8352941  0.8235294 ]\n",
            "   ...\n",
            "   [0.7529412  0.64705884 0.7764706 ]\n",
            "   [0.7411765  0.6431373  0.75686276]\n",
            "   [0.67058825 0.6        0.69411767]]\n",
            "\n",
            "  [[0.8352941  0.83137256 0.8156863 ]\n",
            "   [0.85490197 0.8509804  0.83137256]\n",
            "   [0.8509804  0.83137256 0.81960785]\n",
            "   ...\n",
            "   [0.7294118  0.62352943 0.74509805]\n",
            "   [0.7254902  0.6313726  0.73333335]\n",
            "   [0.65882355 0.5882353  0.6901961 ]]\n",
            "\n",
            "  ...\n",
            "\n",
            "  [[0.84313726 0.87058824 0.8392157 ]\n",
            "   [0.8509804  0.88235295 0.83137256]\n",
            "   [0.85882354 0.88235295 0.84313726]\n",
            "   ...\n",
            "   [0.85882354 0.8235294  0.8352941 ]\n",
            "   [0.8117647  0.78431374 0.8156863 ]\n",
            "   [0.81960785 0.8        0.827451  ]]\n",
            "\n",
            "  [[0.8352941  0.8666667  0.8235294 ]\n",
            "   [0.8509804  0.88235295 0.83137256]\n",
            "   [0.85882354 0.87058824 0.8352941 ]\n",
            "   ...\n",
            "   [0.83137256 0.80784315 0.8156863 ]\n",
            "   [0.8        0.77254903 0.8       ]\n",
            "   [0.8117647  0.7921569  0.81960785]]\n",
            "\n",
            "  [[0.827451   0.85882354 0.8156863 ]\n",
            "   [0.84705883 0.87058824 0.8156863 ]\n",
            "   [0.85490197 0.8666667  0.83137256]\n",
            "   ...\n",
            "   [0.81960785 0.8039216  0.80784315]\n",
            "   [0.8156863  0.7882353  0.8156863 ]\n",
            "   [0.8        0.78039217 0.80784315]]]]\n",
            "<class 'numpy.ndarray'>\n",
            "(1, 400, 400, 3)\n"
          ],
          "name": "stdout"
        }
      ]
    },
    {
      "cell_type": "markdown",
      "metadata": {
        "id": "QlxAzC96Ztzt",
        "colab_type": "text"
      },
      "source": [
        "##第１章　Visual Predictive Check\n"
      ]
    },
    {
      "cell_type": "code",
      "metadata": {
        "id": "AbKIwf6HfmT0",
        "colab_type": "code",
        "colab": {
          "base_uri": "https://localhost:8080/",
          "height": 289
        },
        "outputId": "e0f8e47e-6e57-4ec2-fe9a-05c5d27a33cd"
      },
      "source": [
        "import matplotlib.pyplot as plt\n",
        "import matplotlib.image as mpimg\n",
        "from keras.models import Sequential, Model\n",
        "from keras.layers import Input, Activation, Dropout, Flatten, Dense\n",
        "from keras.preprocessing import image\n",
        "import numpy as np\n",
        "from keras.models import load_model\n",
        "\n",
        "model=load_model(os.path.join(result_dir,'breakhis_vgg19model_parameter.h5'))\n",
        "\n",
        "\n",
        "\n",
        "model.summary()"
      ],
      "execution_count": 5,
      "outputs": [
        {
          "output_type": "stream",
          "text": [
            "Model: \"sequential\"\n",
            "_________________________________________________________________\n",
            "Layer (type)                 Output Shape              Param #   \n",
            "=================================================================\n",
            "vgg19 (Functional)           (None, 12, 12, 512)       20024384  \n",
            "_________________________________________________________________\n",
            "flatten (Flatten)            (None, 73728)             0         \n",
            "_________________________________________________________________\n",
            "dense (Dense)                (None, 256)               18874624  \n",
            "_________________________________________________________________\n",
            "sigmoid (Dense)              (None, 1)                 257       \n",
            "=================================================================\n",
            "Total params: 38,899,265\n",
            "Trainable params: 28,314,113\n",
            "Non-trainable params: 10,585,152\n",
            "_________________________________________________________________\n"
          ],
          "name": "stdout"
        }
      ]
    },
    {
      "cell_type": "markdown",
      "metadata": {
        "id": "tkLor5HJpn9V",
        "colab_type": "text"
      },
      "source": [
        "## モデルの読み込み "
      ]
    },
    {
      "cell_type": "code",
      "metadata": {
        "id": "1i_CQMRafjsA",
        "colab_type": "code",
        "colab": {
          "base_uri": "https://localhost:8080/",
          "height": 34
        },
        "outputId": "f6f0da42-91e9-40d6-b8af-d282e042fe07"
      },
      "source": [
        "%matplotlib inline\n",
        "import matplotlib.pyplot as plt\n",
        "import matplotlib.image as mpimg\n",
        "from keras.applications.vgg19 import VGG19\n",
        "from keras.models import Sequential, Model\n",
        "from keras.layers import Input, Activation, Dropout, Flatten, Dense\n",
        "from keras.preprocessing import image\n",
        "import numpy as np\n",
        "from keras.models import load_model\n",
        "\n",
        "\n",
        "pred = model.predict(x)\n",
        "\n",
        "print(pred)\n"
      ],
      "execution_count": 18,
      "outputs": [
        {
          "output_type": "stream",
          "text": [
            "[[0.9990202]]\n"
          ],
          "name": "stdout"
        }
      ]
    }
  ]
}