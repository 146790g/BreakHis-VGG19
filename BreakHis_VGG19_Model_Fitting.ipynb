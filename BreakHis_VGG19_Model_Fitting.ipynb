{
  "nbformat": 4,
  "nbformat_minor": 0,
  "metadata": {
    "kernelspec": {
      "display_name": "Python 3",
      "language": "python",
      "name": "python3"
    },
    "language_info": {
      "codemirror_mode": {
        "name": "ipython",
        "version": 3
      },
      "file_extension": ".py",
      "mimetype": "text/x-python",
      "name": "python",
      "nbconvert_exporter": "python",
      "pygments_lexer": "ipython3",
      "version": "3.6.10"
    },
    "colab": {
      "name": "BreakHis_VGG19_Model Fitting.ipynb",
      "provenance": [],
      "collapsed_sections": [],
      "include_colab_link": true
    },
    "accelerator": "GPU"
  },
  "cells": [
    {
      "cell_type": "markdown",
      "metadata": {
        "id": "view-in-github",
        "colab_type": "text"
      },
      "source": [
        "<a href=\"https://colab.research.google.com/github/146790g/BreakHis-VGG19/blob/master/BreakHis_VGG19_Model_Fitting.ipynb\" target=\"_parent\"><img src=\"https://colab.research.google.com/assets/colab-badge.svg\" alt=\"Open In Colab\"/></a>"
      ]
    },
    {
      "cell_type": "markdown",
      "metadata": {
        "id": "Aos1i1OBdV3W"
      },
      "source": [
        "# 深層学習 VGG19モデルを用いた乳がん染色画像（BreakHis）の解析\n",
        "\n",
        "#（その１： Model Fitting）\n",
        "\n",
        "##  Deep Learning for Magnification Independent Breast Cancer Histopathology\n",
        "## Image Classification using VGG19 Model \n",
        "\n",
        "<h2>対象データは、こちらをクリック</>\n",
        "<a href='https://www.kaggle.com/ambarish/breakhis'>Kaggle BreakHis Data</a>\n",
        "\n",
        "４つのMagnification levelのデータをすべて合算して、解析する\n",
        "\n",
        "<br>\n",
        "\n",
        "## 4 Magnification Levels: ×40, ×100, ×200, ×400\n",
        "\n",
        "\n",
        "During analysis and annotation, pathologists starts by identifying ROIs in\n",
        "the lowest magnification level slide (×40), then dives deeper in the latter using higher magnification levels (×100, ×200) until having a profound insight\n",
        "(×400). \n",
        "\n",
        "<br>\n",
        "\n",
        "## データ数 の概要\n",
        "\n",
        "・Training Data: 5026 images <br>\n",
        "  -- Benign Data: 1472 images <br>\n",
        "  -- Mallignant Data: 3554 images \n",
        "\n",
        "・Validation Data: 2904 images <br>\n",
        "  -- Benign Data: 1008 images <br>\n",
        "  -- Mallignant Data:1896 images <br>\n",
        "\n",
        "## Data Set Details by Magnification levels.\n",
        "\n",
        " ×40 : <br>\n",
        "×100 : <br>\n",
        "×200 : <br>\n",
        "×400 : <br>"
      ]
    },
    {
      "cell_type": "code",
      "metadata": {
        "id": "MjZpD7wcfTPA"
      },
      "source": [
        "%tensorflow_version 2.x"
      ],
      "execution_count": null,
      "outputs": []
    },
    {
      "cell_type": "code",
      "metadata": {
        "id": "dIVAoJRwTq1x",
        "outputId": "a0243b77-93f6-45f0-e00e-98bd74858fd4",
        "colab": {
          "base_uri": "https://localhost:8080/",
          "height": 34
        }
      },
      "source": [
        "%pwd\n",
        "from google.colab import drive\n",
        "drive.mount('/content/gdrive')"
      ],
      "execution_count": null,
      "outputs": [
        {
          "output_type": "stream",
          "text": [
            "Mounted at /content/gdrive\n"
          ],
          "name": "stdout"
        }
      ]
    },
    {
      "cell_type": "code",
      "metadata": {
        "id": "mjdqpKr_VU7-",
        "outputId": "6e7ace6c-c835-4fd8-bb58-54570c6d9498",
        "colab": {
          "base_uri": "https://localhost:8080/",
          "height": 70
        }
      },
      "source": [
        "!ls -lh '/content/gdrive/My Drive/Colab Notebooks/BreakHis/data'"
      ],
      "execution_count": null,
      "outputs": [
        {
          "output_type": "stream",
          "text": [
            "total 8.0K\n",
            "drwx------ 2 root root 4.0K Jul 21 03:42 train\n",
            "drwx------ 2 root root 4.0K Jul 27 01:49 validation\n"
          ],
          "name": "stdout"
        }
      ]
    },
    {
      "cell_type": "code",
      "metadata": {
        "id": "PM4Bw3tFdESi"
      },
      "source": [
        "from keras.applications.vgg19 import VGG19\n",
        "from keras.preprocessing.image import ImageDataGenerator,load_img\n",
        "import numpy as np\n",
        "import os\n",
        "#import Pillow\n",
        "#from PIL import Image\n",
        "#import opencv\n",
        "from PIL import Image\n",
        "from keras.preprocessing.image import load_img, save_img, img_to_array, array_to_img\n",
        "import numpy as np\n",
        "from pandas import DataFrame\n",
        "import matplotlib.pyplot as plt\n",
        "\n",
        "import tensorflow as tf\n",
        "from tensorflow.keras import layers, models, initializers\n",
        "\n",
        "from keras.models import Sequential, Model\n",
        "from keras.layers import Input, Activation, Dropout, Flatten, Dense\n",
        "from keras.preprocessing.image import ImageDataGenerator\n",
        "from keras import optimizers\n",
        "import numpy as np\n",
        "\n",
        "\n",
        "train_data_dir = '/content/gdrive/My Drive/Colab Notebooks/BreakHis/data/train' # Training Data のフォルダー\n",
        "validation_data_dir = '/content/gdrive/My Drive/Colab Notebooks/BreakHis/data/validation' # Validation Data のフォルダー\n",
        "result_dir = '/content/gdrive/My Drive/Colab Notebooks/BreakHis/results'        # VGG19の出力結果を保存するフォルダー\n",
        "test_dir = '/content/gdrive/My Drive/Colab Notebooks/BreakHis/test'\n",
        "    \n"
      ],
      "execution_count": null,
      "outputs": []
    },
    {
      "cell_type": "markdown",
      "metadata": {
        "id": "O7f_38t-xU4q"
      },
      "source": [
        "#第１章　VGG19モデルの構築\n"
      ]
    },
    {
      "cell_type": "code",
      "metadata": {
        "id": "DHpyu8f-sNvj",
        "outputId": "0a1a8efd-356f-4323-ca2f-32ff6de2c3c6",
        "colab": {
          "base_uri": "https://localhost:8080/",
          "height": 1000
        }
      },
      "source": [
        " ## VGG19モデルと学習済み重みを読み込む\n",
        "\n",
        "\n",
        "\n",
        "from keras.applications.vgg19 import VGG19\n",
        "\n",
        " ## VGG19モデルと学習済み重みを読み込む\n",
        "\n",
        " img_h, img_w = 400,400\n",
        "channels = 3\n",
        "batch_size = 30  \n",
        "\n",
        "\n",
        "vgg19_model = VGG19(include_top=False,        # 全結合層は層（FC）は読み込まない\n",
        "                    weights='imagenet',       # ImageNetで学習した重みを利用\n",
        "                    input_shape=(img_h, img_w, channels) # 入力データの形状\n",
        "                   )\n",
        "\n",
        "# VGG16モデルのサマリを出力\n",
        "print('VGG19モデルのサマリ')\n",
        "vgg19_model.summary()\n",
        "\n",
        "# VGG19のblock1_conv1からblock4_poolまでを凍結\n",
        "# block5のみを学習可能にする\n",
        "vgg19_model.trainable = True\n",
        "set_trainable = False\n",
        "for layer in vgg19_model.layers:\n",
        "    if layer.name == 'block5_conv1':\n",
        "        set_trainable = True\n",
        "    if set_trainable:        \n",
        "        layer.trainable = True\n",
        "    else:\n",
        "        layer.trainable = False\n",
        "    \n",
        "## 凍結後のサマリを出力\n",
        "print('凍結後のサマリ')\n",
        "vgg19_model.summary()\n",
        "\n",
        "## VGG19モデルと独自のFC層を連結した計算モデルを構築\n",
        "# Sequentialオブジェクトを生成\n",
        "model = Sequential()\n",
        "\n",
        "# VGG19モデルを追加\n",
        "model.add(vgg19_model)\n",
        "# Flatten層\n",
        "model.add(Flatten())\n",
        "# 全結合層\n",
        "model.add(Dense(256,                 # ニューロン数は256\n",
        "                activation='relu'    # 活性化関数はReLU\n",
        "                ))\n",
        "#出力層\n",
        "model.add(Dense(1, activation='sigmoid', name='sigmoid'))\n",
        "\n",
        "# VGG19に独自のFC層を結合したモデルのサマリを出力\n",
        "print('結合後のサマリ')\n",
        "model.summary()   \n",
        "     \n",
        "     \n",
        "     \n",
        "  "
      ],
      "execution_count": null,
      "outputs": [
        {
          "output_type": "stream",
          "text": [
            "Downloading data from https://storage.googleapis.com/tensorflow/keras-applications/vgg19/vgg19_weights_tf_dim_ordering_tf_kernels_notop.h5\n",
            "80142336/80134624 [==============================] - 1s 0us/step\n",
            "VGG19モデルのサマリ\n",
            "Model: \"vgg19\"\n",
            "_________________________________________________________________\n",
            "Layer (type)                 Output Shape              Param #   \n",
            "=================================================================\n",
            "input_1 (InputLayer)         [(None, 400, 400, 3)]     0         \n",
            "_________________________________________________________________\n",
            "block1_conv1 (Conv2D)        (None, 400, 400, 64)      1792      \n",
            "_________________________________________________________________\n",
            "block1_conv2 (Conv2D)        (None, 400, 400, 64)      36928     \n",
            "_________________________________________________________________\n",
            "block1_pool (MaxPooling2D)   (None, 200, 200, 64)      0         \n",
            "_________________________________________________________________\n",
            "block2_conv1 (Conv2D)        (None, 200, 200, 128)     73856     \n",
            "_________________________________________________________________\n",
            "block2_conv2 (Conv2D)        (None, 200, 200, 128)     147584    \n",
            "_________________________________________________________________\n",
            "block2_pool (MaxPooling2D)   (None, 100, 100, 128)     0         \n",
            "_________________________________________________________________\n",
            "block3_conv1 (Conv2D)        (None, 100, 100, 256)     295168    \n",
            "_________________________________________________________________\n",
            "block3_conv2 (Conv2D)        (None, 100, 100, 256)     590080    \n",
            "_________________________________________________________________\n",
            "block3_conv3 (Conv2D)        (None, 100, 100, 256)     590080    \n",
            "_________________________________________________________________\n",
            "block3_conv4 (Conv2D)        (None, 100, 100, 256)     590080    \n",
            "_________________________________________________________________\n",
            "block3_pool (MaxPooling2D)   (None, 50, 50, 256)       0         \n",
            "_________________________________________________________________\n",
            "block4_conv1 (Conv2D)        (None, 50, 50, 512)       1180160   \n",
            "_________________________________________________________________\n",
            "block4_conv2 (Conv2D)        (None, 50, 50, 512)       2359808   \n",
            "_________________________________________________________________\n",
            "block4_conv3 (Conv2D)        (None, 50, 50, 512)       2359808   \n",
            "_________________________________________________________________\n",
            "block4_conv4 (Conv2D)        (None, 50, 50, 512)       2359808   \n",
            "_________________________________________________________________\n",
            "block4_pool (MaxPooling2D)   (None, 25, 25, 512)       0         \n",
            "_________________________________________________________________\n",
            "block5_conv1 (Conv2D)        (None, 25, 25, 512)       2359808   \n",
            "_________________________________________________________________\n",
            "block5_conv2 (Conv2D)        (None, 25, 25, 512)       2359808   \n",
            "_________________________________________________________________\n",
            "block5_conv3 (Conv2D)        (None, 25, 25, 512)       2359808   \n",
            "_________________________________________________________________\n",
            "block5_conv4 (Conv2D)        (None, 25, 25, 512)       2359808   \n",
            "_________________________________________________________________\n",
            "block5_pool (MaxPooling2D)   (None, 12, 12, 512)       0         \n",
            "=================================================================\n",
            "Total params: 20,024,384\n",
            "Trainable params: 20,024,384\n",
            "Non-trainable params: 0\n",
            "_________________________________________________________________\n",
            "凍結後のサマリ\n",
            "Model: \"vgg19\"\n",
            "_________________________________________________________________\n",
            "Layer (type)                 Output Shape              Param #   \n",
            "=================================================================\n",
            "input_1 (InputLayer)         [(None, 400, 400, 3)]     0         \n",
            "_________________________________________________________________\n",
            "block1_conv1 (Conv2D)        (None, 400, 400, 64)      1792      \n",
            "_________________________________________________________________\n",
            "block1_conv2 (Conv2D)        (None, 400, 400, 64)      36928     \n",
            "_________________________________________________________________\n",
            "block1_pool (MaxPooling2D)   (None, 200, 200, 64)      0         \n",
            "_________________________________________________________________\n",
            "block2_conv1 (Conv2D)        (None, 200, 200, 128)     73856     \n",
            "_________________________________________________________________\n",
            "block2_conv2 (Conv2D)        (None, 200, 200, 128)     147584    \n",
            "_________________________________________________________________\n",
            "block2_pool (MaxPooling2D)   (None, 100, 100, 128)     0         \n",
            "_________________________________________________________________\n",
            "block3_conv1 (Conv2D)        (None, 100, 100, 256)     295168    \n",
            "_________________________________________________________________\n",
            "block3_conv2 (Conv2D)        (None, 100, 100, 256)     590080    \n",
            "_________________________________________________________________\n",
            "block3_conv3 (Conv2D)        (None, 100, 100, 256)     590080    \n",
            "_________________________________________________________________\n",
            "block3_conv4 (Conv2D)        (None, 100, 100, 256)     590080    \n",
            "_________________________________________________________________\n",
            "block3_pool (MaxPooling2D)   (None, 50, 50, 256)       0         \n",
            "_________________________________________________________________\n",
            "block4_conv1 (Conv2D)        (None, 50, 50, 512)       1180160   \n",
            "_________________________________________________________________\n",
            "block4_conv2 (Conv2D)        (None, 50, 50, 512)       2359808   \n",
            "_________________________________________________________________\n",
            "block4_conv3 (Conv2D)        (None, 50, 50, 512)       2359808   \n",
            "_________________________________________________________________\n",
            "block4_conv4 (Conv2D)        (None, 50, 50, 512)       2359808   \n",
            "_________________________________________________________________\n",
            "block4_pool (MaxPooling2D)   (None, 25, 25, 512)       0         \n",
            "_________________________________________________________________\n",
            "block5_conv1 (Conv2D)        (None, 25, 25, 512)       2359808   \n",
            "_________________________________________________________________\n",
            "block5_conv2 (Conv2D)        (None, 25, 25, 512)       2359808   \n",
            "_________________________________________________________________\n",
            "block5_conv3 (Conv2D)        (None, 25, 25, 512)       2359808   \n",
            "_________________________________________________________________\n",
            "block5_conv4 (Conv2D)        (None, 25, 25, 512)       2359808   \n",
            "_________________________________________________________________\n",
            "block5_pool (MaxPooling2D)   (None, 12, 12, 512)       0         \n",
            "=================================================================\n",
            "Total params: 20,024,384\n",
            "Trainable params: 9,439,232\n",
            "Non-trainable params: 10,585,152\n",
            "_________________________________________________________________\n",
            "結合後のサマリ\n",
            "Model: \"sequential\"\n",
            "_________________________________________________________________\n",
            "Layer (type)                 Output Shape              Param #   \n",
            "=================================================================\n",
            "vgg19 (Functional)           (None, 12, 12, 512)       20024384  \n",
            "_________________________________________________________________\n",
            "flatten (Flatten)            (None, 73728)             0         \n",
            "_________________________________________________________________\n",
            "dense (Dense)                (None, 256)               18874624  \n",
            "_________________________________________________________________\n",
            "sigmoid (Dense)              (None, 1)                 257       \n",
            "=================================================================\n",
            "Total params: 38,899,265\n",
            "Trainable params: 28,314,113\n",
            "Non-trainable params: 10,585,152\n",
            "_________________________________________________________________\n"
          ],
          "name": "stdout"
        }
      ]
    },
    {
      "cell_type": "code",
      "metadata": {
        "id": "Swj3r46OsC61"
      },
      "source": [
        "## モデルのコンパイル\n",
        "# 最適化はRMSpropで行う\n",
        "# 学習率を小さくしたのはファインチューニングを\n",
        "\n",
        "model.compile(loss='binary_crossentropy',\n",
        "              optimizer=optimizers.RMSprop(lr=1e-5),\n",
        "              metrics=['accuracy'])"
      ],
      "execution_count": null,
      "outputs": []
    },
    {
      "cell_type": "code",
      "metadata": {
        "id": "bNUtYM7c09px",
        "outputId": "d411af6d-bdf0-44e9-c538-de06b6c8a03e",
        "colab": {
          "base_uri": "https://localhost:8080/",
          "height": 35
        }
      },
      "source": [
        "%pwd"
      ],
      "execution_count": null,
      "outputs": [
        {
          "output_type": "execute_result",
          "data": {
            "application/vnd.google.colaboratory.intrinsic+json": {
              "type": "string"
            },
            "text/plain": [
              "'/content'"
            ]
          },
          "metadata": {
            "tags": []
          },
          "execution_count": 7
        }
      ]
    },
    {
      "cell_type": "markdown",
      "metadata": {
        "id": "lfuYrVr6yzjq"
      },
      "source": [
        "#第２章　データ拡張"
      ]
    },
    {
      "cell_type": "code",
      "metadata": {
        "id": "HHM8zUDzzEdw",
        "outputId": "df01d8b1-6d6c-4dbd-c542-822d5dd26b65",
        "colab": {
          "base_uri": "https://localhost:8080/",
          "height": 52
        }
      },
      "source": [
        "img_h, img_w = 400,400\n",
        "channels = 3\n",
        "batch_size = 30               # ミニバッチのサイズ\n",
        "\n",
        "#train_data_dir = 'content/data/train' # 訓練データのフォルダー\n",
        "#validation_data_dir = 'content/data/validation' # テストデータのフォルダー\n",
        "#result_dir = 'results'        # VGG16の出力結果を保存するフォルダー  \n",
        "\n",
        "\n",
        "## 訓練データを読み込むジェネレーターを生成\n",
        "# データ拡張を行う\n",
        "train_datagen = ImageDataGenerator(\n",
        "    rescale=1.0 / 255,\n",
        "    rotation_range=40,     # 40度の範囲でランダムに回転させる\n",
        "    width_shift_range=0.2,  # 横サイズの0.2の割合でランダムに水平移動\n",
        "    height_shift_range=0.2, # 縦サイズの0.2の割合でランダムに垂直移動\n",
        "    horizontal_flip=True,   # 水平方向にランダムに反転、左右の入れ替え\n",
        "    vertical_flip=True,\n",
        "    zoom_range=0.8,         # ランダムに拡大\n",
        "    shear_range=0.2         # シアー変換をかける\n",
        ")\n",
        "\n",
        "\n",
        "# 訓練データを生成するするジェネレーター\n",
        "train_generator = train_datagen.flow_from_directory(\n",
        "    train_data_dir,             # 訓練データのフォルダー\n",
        "    target_size=(img_h, img_w), # 画像をリサイズ\n",
        "    batch_size=batch_size,      # ミニバッチのサイズ\n",
        "    class_mode='binary'         # 出力層は二値のラベルが必要\n",
        ")\n",
        "\n",
        "\n",
        "## テストデータを読み込むジェネレーターを生成\n",
        "test_datagen = ImageDataGenerator(rescale=1.0 / 255)\n",
        "\n",
        "\n",
        "# テストデータを生成するするジェネレーター\n",
        "validation_generator = test_datagen.flow_from_directory(\n",
        "    validation_data_dir,        # テストデータのフォルダー\n",
        "    target_size=(img_h, img_w), # 画像をリサイズ\n",
        "    batch_size=batch_size,      # ミニバッチのサイズ\n",
        "    class_mode='binary'         # 出力層は二値のラベルが必要\n",
        ")"
      ],
      "execution_count": null,
      "outputs": [
        {
          "output_type": "stream",
          "text": [
            "Found 5026 images belonging to 2 classes.\n",
            "Found 2904 images belonging to 2 classes.\n"
          ],
          "name": "stdout"
        }
      ]
    },
    {
      "cell_type": "code",
      "metadata": {
        "id": "KA0aK21zVi5Y",
        "outputId": "def0bab4-ba13-4a0f-a604-2fc5eac83251",
        "colab": {
          "base_uri": "https://localhost:8080/",
          "height": 52
        }
      },
      "source": [
        "type(train_generator)\n",
        "print(train_generator.class_indices)\n",
        "print(validation_generator.class_indices)\n"
      ],
      "execution_count": null,
      "outputs": [
        {
          "output_type": "stream",
          "text": [
            "{'benign': 0, 'malignant': 1}\n",
            "{'benign': 0, 'malignant': 1}\n"
          ],
          "name": "stdout"
        }
      ]
    },
    {
      "cell_type": "markdown",
      "metadata": {
        "id": "Kw95xWwPPLlk"
      },
      "source": [
        "# 第３章　Model Fitting"
      ]
    },
    {
      "cell_type": "code",
      "metadata": {
        "id": "J6YaPZukfl9x",
        "outputId": "c8937cd1-bf16-4b70-e2a3-5193bb1caefb",
        "colab": {
          "base_uri": "https://localhost:8080/",
          "height": 1000
        }
      },
      "source": [
        "epochs=50\n",
        "num_train = 5026\n",
        "num_validation = 2904\n",
        "\n",
        "## 学習を行う\n",
        "\n",
        "# 訓練データのジェネレーターのサイズ\n",
        "print(len(train_generator))\n",
        "# 訓練データの数をミニバッチのサイズで割った値\n",
        "print(num_train//batch_size)\n",
        "# テストデータのジェネレーターのサイズ\n",
        "print(len(validation_generator))\n",
        "# テストデータの数をミニバッチのサイズで割った値\n",
        "print(num_validation//batch_size)\n",
        "\n",
        "# モデルのファインチューニング\n",
        "history = model.fit(\n",
        "    \n",
        "    # 訓練データのジェネレーター\n",
        "    train_generator,\n",
        "    # 各エポックにおけるステップ数として\n",
        "    # 訓練データの数をミニバッチのサイズで割った値を指定\n",
        "    steps_per_epoch=num_train//batch_size,\n",
        "    # エポック数（学習回数）\n",
        "    epochs=epochs,\n",
        "    # テストデータのジェネレーター\n",
        "    validation_data=validation_generator,\n",
        "    # テストにおける各エポックにおけるステップ数として\n",
        "    # テストデータの数をミニバッチのサイズで割った値を指定\n",
        "    validation_steps=num_validation//batch_size\n",
        ")"
      ],
      "execution_count": null,
      "outputs": [
        {
          "output_type": "stream",
          "text": [
            "168\n",
            "167\n",
            "97\n",
            "96\n",
            "Epoch 1/50\n",
            "167/167 [==============================] - 3562s 21s/step - loss: 0.5555 - accuracy: 0.7218 - val_loss: 0.5666 - val_accuracy: 0.7038\n",
            "Epoch 2/50\n",
            "167/167 [==============================] - 318s 2s/step - loss: 0.4471 - accuracy: 0.7914 - val_loss: 0.5118 - val_accuracy: 0.7528\n",
            "Epoch 3/50\n",
            "167/167 [==============================] - 312s 2s/step - loss: 0.4008 - accuracy: 0.8249 - val_loss: 0.4783 - val_accuracy: 0.7920\n",
            "Epoch 4/50\n",
            "167/167 [==============================] - 307s 2s/step - loss: 0.3735 - accuracy: 0.8415 - val_loss: 0.4715 - val_accuracy: 0.7802\n",
            "Epoch 5/50\n",
            "167/167 [==============================] - 309s 2s/step - loss: 0.3489 - accuracy: 0.8573 - val_loss: 0.3997 - val_accuracy: 0.8309\n",
            "Epoch 6/50\n",
            "167/167 [==============================] - 307s 2s/step - loss: 0.3242 - accuracy: 0.8655 - val_loss: 0.4271 - val_accuracy: 0.8399\n",
            "Epoch 7/50\n",
            "167/167 [==============================] - 303s 2s/step - loss: 0.3097 - accuracy: 0.8779 - val_loss: 0.4072 - val_accuracy: 0.8219\n",
            "Epoch 8/50\n",
            "167/167 [==============================] - 303s 2s/step - loss: 0.2969 - accuracy: 0.8829 - val_loss: 0.5073 - val_accuracy: 0.7865\n",
            "Epoch 9/50\n",
            "167/167 [==============================] - 300s 2s/step - loss: 0.2799 - accuracy: 0.8881 - val_loss: 0.4228 - val_accuracy: 0.8184\n",
            "Epoch 10/50\n",
            "167/167 [==============================] - 302s 2s/step - loss: 0.2708 - accuracy: 0.8933 - val_loss: 0.3756 - val_accuracy: 0.8469\n",
            "Epoch 11/50\n",
            "167/167 [==============================] - 302s 2s/step - loss: 0.2693 - accuracy: 0.8959 - val_loss: 0.3565 - val_accuracy: 0.8615\n",
            "Epoch 12/50\n",
            "167/167 [==============================] - 300s 2s/step - loss: 0.2651 - accuracy: 0.8991 - val_loss: 0.7056 - val_accuracy: 0.7736\n",
            "Epoch 13/50\n",
            "167/167 [==============================] - 300s 2s/step - loss: 0.2550 - accuracy: 0.8973 - val_loss: 0.5291 - val_accuracy: 0.8208\n",
            "Epoch 14/50\n",
            "167/167 [==============================] - 300s 2s/step - loss: 0.2452 - accuracy: 0.9063 - val_loss: 0.3902 - val_accuracy: 0.8479\n",
            "Epoch 15/50\n",
            "167/167 [==============================] - 302s 2s/step - loss: 0.2369 - accuracy: 0.9089 - val_loss: 0.6213 - val_accuracy: 0.7937\n",
            "Epoch 16/50\n",
            "167/167 [==============================] - 299s 2s/step - loss: 0.2343 - accuracy: 0.9141 - val_loss: 0.4020 - val_accuracy: 0.8455\n",
            "Epoch 17/50\n",
            "167/167 [==============================] - 298s 2s/step - loss: 0.2294 - accuracy: 0.9099 - val_loss: 0.4105 - val_accuracy: 0.8521\n",
            "Epoch 18/50\n",
            "167/167 [==============================] - 299s 2s/step - loss: 0.2211 - accuracy: 0.9169 - val_loss: 0.3592 - val_accuracy: 0.8562\n",
            "Epoch 19/50\n",
            "167/167 [==============================] - 298s 2s/step - loss: 0.2134 - accuracy: 0.9195 - val_loss: 0.4562 - val_accuracy: 0.8365\n",
            "Epoch 20/50\n",
            "167/167 [==============================] - 300s 2s/step - loss: 0.2160 - accuracy: 0.9159 - val_loss: 0.4290 - val_accuracy: 0.8365\n",
            "Epoch 21/50\n",
            "167/167 [==============================] - 301s 2s/step - loss: 0.1999 - accuracy: 0.9201 - val_loss: 0.4210 - val_accuracy: 0.8670\n",
            "Epoch 22/50\n",
            "167/167 [==============================] - 300s 2s/step - loss: 0.1953 - accuracy: 0.9223 - val_loss: 0.4647 - val_accuracy: 0.8497\n",
            "Epoch 23/50\n",
            "167/167 [==============================] - 299s 2s/step - loss: 0.1969 - accuracy: 0.9239 - val_loss: 0.5118 - val_accuracy: 0.8424\n",
            "Epoch 24/50\n",
            "167/167 [==============================] - 298s 2s/step - loss: 0.1923 - accuracy: 0.9269 - val_loss: 0.4465 - val_accuracy: 0.8604\n",
            "Epoch 25/50\n",
            "167/167 [==============================] - 300s 2s/step - loss: 0.1951 - accuracy: 0.9229 - val_loss: 0.7195 - val_accuracy: 0.7875\n",
            "Epoch 26/50\n",
            "167/167 [==============================] - 299s 2s/step - loss: 0.1904 - accuracy: 0.9243 - val_loss: 0.6373 - val_accuracy: 0.8184\n",
            "Epoch 27/50\n",
            "167/167 [==============================] - 297s 2s/step - loss: 0.1864 - accuracy: 0.9273 - val_loss: 0.5803 - val_accuracy: 0.8267\n",
            "Epoch 28/50\n",
            "167/167 [==============================] - 298s 2s/step - loss: 0.1887 - accuracy: 0.9291 - val_loss: 0.4239 - val_accuracy: 0.8431\n",
            "Epoch 29/50\n",
            "167/167 [==============================] - 298s 2s/step - loss: 0.1845 - accuracy: 0.9285 - val_loss: 0.6520 - val_accuracy: 0.7976\n",
            "Epoch 30/50\n",
            "167/167 [==============================] - 299s 2s/step - loss: 0.1850 - accuracy: 0.9279 - val_loss: 0.6121 - val_accuracy: 0.8365\n",
            "Epoch 31/50\n",
            "167/167 [==============================] - 299s 2s/step - loss: 0.1736 - accuracy: 0.9337 - val_loss: 0.4479 - val_accuracy: 0.8285\n",
            "Epoch 32/50\n",
            "167/167 [==============================] - 299s 2s/step - loss: 0.1762 - accuracy: 0.9349 - val_loss: 0.6895 - val_accuracy: 0.8347\n",
            "Epoch 33/50\n",
            "167/167 [==============================] - 303s 2s/step - loss: 0.1803 - accuracy: 0.9319 - val_loss: 0.4627 - val_accuracy: 0.8333\n",
            "Epoch 34/50\n",
            "167/167 [==============================] - 303s 2s/step - loss: 0.1759 - accuracy: 0.9345 - val_loss: 0.4827 - val_accuracy: 0.8361\n",
            "Epoch 35/50\n",
            "167/167 [==============================] - 301s 2s/step - loss: 0.1599 - accuracy: 0.9388 - val_loss: 0.5852 - val_accuracy: 0.8351\n",
            "Epoch 36/50\n",
            "167/167 [==============================] - 305s 2s/step - loss: 0.1662 - accuracy: 0.9357 - val_loss: 0.6408 - val_accuracy: 0.8427\n",
            "Epoch 37/50\n",
            "167/167 [==============================] - 303s 2s/step - loss: 0.1617 - accuracy: 0.9398 - val_loss: 0.6345 - val_accuracy: 0.8295\n",
            "Epoch 38/50\n",
            "167/167 [==============================] - 300s 2s/step - loss: 0.1704 - accuracy: 0.9345 - val_loss: 0.4786 - val_accuracy: 0.8465\n",
            "Epoch 39/50\n",
            "167/167 [==============================] - 300s 2s/step - loss: 0.1635 - accuracy: 0.9436 - val_loss: 0.5869 - val_accuracy: 0.8413\n",
            "Epoch 40/50\n",
            "167/167 [==============================] - 301s 2s/step - loss: 0.1671 - accuracy: 0.9392 - val_loss: 0.5315 - val_accuracy: 0.8660\n",
            "Epoch 41/50\n",
            "167/167 [==============================] - 304s 2s/step - loss: 0.1595 - accuracy: 0.9357 - val_loss: 0.4637 - val_accuracy: 0.8510\n",
            "Epoch 42/50\n",
            "167/167 [==============================] - 299s 2s/step - loss: 0.1582 - accuracy: 0.9394 - val_loss: 0.5083 - val_accuracy: 0.8587\n",
            "Epoch 43/50\n",
            "167/167 [==============================] - 298s 2s/step - loss: 0.1594 - accuracy: 0.9440 - val_loss: 0.5524 - val_accuracy: 0.8438\n",
            "Epoch 44/50\n",
            "167/167 [==============================] - 300s 2s/step - loss: 0.1512 - accuracy: 0.9414 - val_loss: 0.6668 - val_accuracy: 0.8309\n",
            "Epoch 45/50\n",
            "167/167 [==============================] - 301s 2s/step - loss: 0.1525 - accuracy: 0.9428 - val_loss: 1.2964 - val_accuracy: 0.7972\n",
            "Epoch 46/50\n",
            "167/167 [==============================] - 299s 2s/step - loss: 0.1593 - accuracy: 0.9424 - val_loss: 0.9168 - val_accuracy: 0.8115\n",
            "Epoch 47/50\n",
            "167/167 [==============================] - 298s 2s/step - loss: 0.1590 - accuracy: 0.9400 - val_loss: 0.5379 - val_accuracy: 0.8639\n",
            "Epoch 48/50\n",
            "167/167 [==============================] - 298s 2s/step - loss: 0.1460 - accuracy: 0.9434 - val_loss: 0.7556 - val_accuracy: 0.8309\n",
            "Epoch 49/50\n",
            "167/167 [==============================] - 298s 2s/step - loss: 0.1545 - accuracy: 0.9404 - val_loss: 0.6961 - val_accuracy: 0.8420\n",
            "Epoch 50/50\n",
            "167/167 [==============================] - 301s 2s/step - loss: 0.1461 - accuracy: 0.9462 - val_loss: 0.6019 - val_accuracy: 0.8569\n"
          ],
          "name": "stdout"
        }
      ]
    },
    {
      "cell_type": "code",
      "metadata": {
        "id": "maVWQmC3Phtt"
      },
      "source": [
        "result_dir = '/content/gdrive/My Drive/Colab Notebooks/BreakHis/results'  \n",
        "\n",
        "\n",
        "with open(os.path.join(result_dir,'breakhis_vgg19model.json'),'w') as json_file:\n",
        "  json_file.write(model.to_json())\n",
        "\n",
        "#model parameter save\n",
        "model.save_weights(os.path.join(result_dir,'breakhis_vgg19parameter.h5'))\n",
        "\n",
        "\n",
        "# model save\n",
        "model.save(os.path.join(result_dir,'breakhis_vgg19model_parameter.h5'))\n",
        "\n",
        "import pandas as pd\n",
        "\n",
        "df_history=pd.DataFrame(history.history)\n",
        "\n",
        "df_history.to_pickle(os.path.join(result_dir,'historyvgg19.pkl'))"
      ],
      "execution_count": null,
      "outputs": []
    },
    {
      "cell_type": "code",
      "metadata": {
        "id": "Go5ZshvNdEUY",
        "outputId": "1ecc597c-dfaa-47a6-a2a7-74c65dde5aed",
        "colab": {
          "base_uri": "https://localhost:8080/",
          "height": 34
        }
      },
      "source": [
        "type(history)\n",
        "history.history\n",
        "type(history.history)"
      ],
      "execution_count": null,
      "outputs": [
        {
          "output_type": "execute_result",
          "data": {
            "text/plain": [
              "dict"
            ]
          },
          "metadata": {
            "tags": []
          },
          "execution_count": 12
        }
      ]
    },
    {
      "cell_type": "code",
      "metadata": {
        "id": "3ggTwUkDQ0ep",
        "outputId": "f9bf6356-b2a5-4477-b872-51ca553efb59",
        "colab": {
          "base_uri": "https://localhost:8080/",
          "height": 34
        }
      },
      "source": [
        "np.mean(history.history['accuracy'][48:50])"
      ],
      "execution_count": null,
      "outputs": [
        {
          "output_type": "execute_result",
          "data": {
            "text/plain": [
              "0.9432545900344849"
            ]
          },
          "metadata": {
            "tags": []
          },
          "execution_count": 13
        }
      ]
    },
    {
      "cell_type": "code",
      "metadata": {
        "id": "WPDj4NS3Regk",
        "outputId": "6fc1c3b7-f0c1-4c36-e458-177d29239063",
        "colab": {
          "base_uri": "https://localhost:8080/",
          "height": 34
        }
      },
      "source": [
        "np.mean(history.history['val_accuracy'][48:50])"
      ],
      "execution_count": null,
      "outputs": [
        {
          "output_type": "execute_result",
          "data": {
            "text/plain": [
              "0.8494791686534882"
            ]
          },
          "metadata": {
            "tags": []
          },
          "execution_count": 14
        }
      ]
    },
    {
      "cell_type": "markdown",
      "metadata": {
        "id": "xkMWot8gQW-2"
      },
      "source": [
        "##【考察】\n",
        "epochが、48番から50番までの精度の平均値を算出すると、  \n",
        "訓練データ：精度：94.33 ％  \n",
        "テストデータ：精度：84.95％  \n",
        "であった。\n",
        " このことから、このVGG19モデルのファインチューニング法により構築されたモデルは、十分に妥当であると考えられる。"
      ]
    },
    {
      "cell_type": "markdown",
      "metadata": {
        "id": "JQpfKaV4PbEY"
      },
      "source": [
        "##第４章　モデルの評価"
      ]
    },
    {
      "cell_type": "code",
      "metadata": {
        "id": "Z7D3UdojdEUe",
        "outputId": "7f2a6d5c-3839-4695-a123-7cf318a4e128",
        "colab": {
          "base_uri": "https://localhost:8080/",
          "height": 573
        }
      },
      "source": [
        "%matplotlib inline\n",
        "import matplotlib.pyplot as plt\n",
        "\n",
        "def plot_acc_loss(history):\n",
        "    # 精度の推移をプロット\n",
        "    plt.plot(history.history['accuracy'],\"-\",label=\"accuracy\")\n",
        "    plt.plot(history.history['val_accuracy'],\"-\",label=\"val_acc\")\n",
        "    plt.title('accuracy')\n",
        "    plt.xlabel('epoch')\n",
        "    plt.ylabel('accuracy')\n",
        "    plt.legend(loc=\"lower right\")\n",
        "    plt.show()\n",
        "\n",
        "    # 損失の推移をプロット\n",
        "    plt.plot(history.history['loss'],\"-\",label=\"loss\",)\n",
        "    plt.plot(history.history['val_loss'],\"-\",label=\"val_loss\")\n",
        "    plt.title('loss')\n",
        "    plt.xlabel('epoch')\n",
        "    plt.ylabel('loss')\n",
        "    plt.legend(loc='upper right')\n",
        "    plt.show()\n",
        "    \n",
        "# 損失と精度をグラフに出力\n",
        "plot_acc_loss(history)"
      ],
      "execution_count": null,
      "outputs": [
        {
          "output_type": "display_data",
          "data": {
            "image/png": "[encoded data removed]",
            "text/plain": [
              "<Figure size 432x288 with 1 Axes>"
            ]
          },
          "metadata": {
            "tags": [],
            "needs_background": "light"
          }
        },
        {
          "output_type": "display_data",
          "data": {
            "image/png": "[encoded data removed]",
            "text/plain": [
              "<Figure size 432x288 with 1 Axes>"
            ]
          },
          "metadata": {
            "tags": [],
            "needs_background": "light"
          }
        }
      ]
    }
  ]
}