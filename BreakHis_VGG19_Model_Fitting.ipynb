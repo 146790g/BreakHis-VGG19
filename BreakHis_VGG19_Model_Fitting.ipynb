{
  "nbformat": 4,
  "nbformat_minor": 0,
  "metadata": {
    "kernelspec": {
      "display_name": "Python 3",
      "language": "python",
      "name": "python3"
    },
    "language_info": {
      "codemirror_mode": {
        "name": "ipython",
        "version": 3
      },
      "file_extension": ".py",
      "mimetype": "text/x-python",
      "name": "python",
      "nbconvert_exporter": "python",
      "pygments_lexer": "ipython3",
      "version": "3.6.10"
    },
    "colab": {
      "name": "BreakHis_VGG19_Model Fitting.ipynb",
      "provenance": [],
      "collapsed_sections": [],
      "include_colab_link": true
    },
    "accelerator": "GPU"
  },
  "cells": [
    {
      "cell_type": "markdown",
      "metadata": {
        "id": "view-in-github",
        "colab_type": "text"
      },
      "source": [
        "<a href=\"https://colab.research.google.com/github/146790g/VGG19-BreakHis/blob/master/BreakHis_VGG19_Model_Fitting.ipynb\" target=\"_parent\"><img src=\"https://colab.research.google.com/assets/colab-badge.svg\" alt=\"Open In Colab\"/></a>"
      ]
    },
    {
      "cell_type": "markdown",
      "metadata": {
        "id": "Aos1i1OBdV3W",
        "colab_type": "text"
      },
      "source": [
        "# 深層学習 VGG19モデルを用いた乳がん染色画像（BreakHis）の解析\n",
        "\n",
        "#（その１： Model Fitting）\n",
        "\n",
        "##  Deep Learning for Magnification Independent Breast Cancer Histopathology\n",
        "## Image Classification using VGG19 Model \n",
        "\n",
        "<h2>対象データは、こちらをクリック</>\n",
        "<a href='https://www.kaggle.com/ambarish/breakhis'>Kaggle BreakHis Data</a>\n",
        "\n",
        "４つのMagnification levelのデータをすべて合算して、解析する\n",
        "\n",
        "<br>\n",
        "\n",
        "## 4 Magnification Levels: ×40, ×100, ×200, ×400\n",
        "\n",
        "\n",
        "During analysis and annotation, pathologists starts by identifying ROIs in\n",
        "the lowest magnification level slide (×40), then dives deeper in the latter using higher magnification levels (×100, ×200) until having a profound insight\n",
        "(×400). \n",
        "\n",
        "<br>\n",
        "\n",
        "## データ数 の概要\n",
        "\n",
        "・Training Data: 5026 images <br>\n",
        "  -- Benign Data: 1472 images <br>\n",
        "  -- Mallignant Data: 3554 images \n",
        "\n",
        "・Validation Data: 2904 images <br>\n",
        "  -- Benign Data: 1008 images <br>\n",
        "  -- Mallignant Data:1896 images <br>\n",
        "\n",
        "## Data Set Details by Magnification levels.\n",
        "\n",
        " ×40 : <br>\n",
        "×100 : <br>\n",
        "×200 : <br>\n",
        "×400 : <br>"
      ]
    },
    {
      "cell_type": "code",
      "metadata": {
        "id": "MjZpD7wcfTPA",
        "colab_type": "code",
        "colab": {}
      },
      "source": [
        "%tensorflow_version 2.x"
      ],
      "execution_count": null,
      "outputs": []
    },
    {
      "cell_type": "code",
      "metadata": {
        "id": "dIVAoJRwTq1x",
        "colab_type": "code",
        "colab": {
          "base_uri": "https://localhost:8080/",
          "height": 122
        },
        "outputId": "5c663f69-eed7-4f5d-8acc-d679d38ed3ba"
      },
      "source": [
        "%pwd\n",
        "from google.colab import drive\n",
        "drive.mount('/content/gdrive')"
      ],
      "execution_count": null,
      "outputs": [
        {
          "output_type": "stream",
          "text": [
            "Go to this URL in a browser: https://accounts.google.com/o/oauth2/auth?client_id=947318989803-6bn6qk8qdgf4n4g3pfee6491hc0brc4i.apps.googleusercontent.com&redirect_uri=urn%3aietf%3awg%3aoauth%3a2.0%3aoob&scope=email%20https%3a%2f%2fwww.googleapis.com%2fauth%2fdocs.test%20https%3a%2f%2fwww.googleapis.com%2fauth%2fdrive%20https%3a%2f%2fwww.googleapis.com%2fauth%2fdrive.photos.readonly%20https%3a%2f%2fwww.googleapis.com%2fauth%2fpeopleapi.readonly&response_type=code\n",
            "\n",
            "Enter your authorization code:\n",
            "··········\n",
            "Mounted at /content/gdrive\n"
          ],
          "name": "stdout"
        }
      ]
    },
    {
      "cell_type": "code",
      "metadata": {
        "id": "mjdqpKr_VU7-",
        "colab_type": "code",
        "colab": {
          "base_uri": "https://localhost:8080/",
          "height": 68
        },
        "outputId": "e3948b9a-fd66-4ed3-915b-378bbc9850f2"
      },
      "source": [
        "!ls -lh '/content/gdrive/My Drive/Colab Notebooks/BreakHis/data'"
      ],
      "execution_count": null,
      "outputs": [
        {
          "output_type": "stream",
          "text": [
            "total 8.0K\n",
            "drwx------ 2 root root 4.0K Jul 21 03:42 train\n",
            "drwx------ 2 root root 4.0K Jul 27 01:49 validation\n"
          ],
          "name": "stdout"
        }
      ]
    },
    {
      "cell_type": "code",
      "metadata": {
        "id": "PM4Bw3tFdESi",
        "colab_type": "code",
        "colab": {}
      },
      "source": [
        "from keras.applications.vgg19 import VGG19\n",
        "from keras.preprocessing.image import ImageDataGenerator,load_img\n",
        "import numpy as np\n",
        "import os\n",
        "#import Pillow\n",
        "#from PIL import Image\n",
        "#import opencv\n",
        "from PIL import Image\n",
        "from keras.preprocessing.image import load_img, save_img, img_to_array, array_to_img\n",
        "import numpy as np\n",
        "from pandas import DataFrame\n",
        "import matplotlib.pyplot as plt\n",
        "\n",
        "import tensorflow as tf\n",
        "from tensorflow.keras import layers, models, initializers\n",
        "\n",
        "from keras.models import Sequential, Model\n",
        "from keras.layers import Input, Activation, Dropout, Flatten, Dense\n",
        "from keras.preprocessing.image import ImageDataGenerator\n",
        "from keras import optimizers\n",
        "import numpy as np\n",
        "\n",
        "\n",
        "train_data_dir = '/content/gdrive/My Drive/Colab Notebooks/BreakHis/data/train' # Training Data のフォルダー\n",
        "validation_data_dir = '/content/gdrive/My Drive/Colab Notebooks/BreakHis/data/validation' # Validation Data のフォルダー\n",
        "result_dir = '/content/gdrive/My Drive/Colab Notebooks/BreakHis/results'        # VGG19の出力結果を保存するフォルダー\n",
        "test_dir = '/content/gdrive/My Drive/Colab Notebooks/BreakHis/test'\n",
        "    \n"
      ],
      "execution_count": null,
      "outputs": []
    },
    {
      "cell_type": "markdown",
      "metadata": {
        "id": "O7f_38t-xU4q",
        "colab_type": "text"
      },
      "source": [
        "##第１章　VGG19モデルの構築\n"
      ]
    },
    {
      "cell_type": "code",
      "metadata": {
        "id": "DHpyu8f-sNvj",
        "colab_type": "code",
        "colab": {
          "base_uri": "https://localhost:8080/",
          "height": 1000
        },
        "outputId": "43afc1ac-0d08-49bd-b9a0-163d8c12701f"
      },
      "source": [
        " ## VGG19モデルと学習済み重みを読み込む\n",
        "\n",
        "\n",
        "\n",
        "from keras.applications.vgg19 import VGG19\n",
        "\n",
        " ## VGG19モデルと学習済み重みを読み込む\n",
        "\n",
        " img_h, img_w = 400,400\n",
        "channels = 3\n",
        "batch_size = 30  \n",
        "\n",
        "\n",
        "vgg19_model = VGG19(include_top=False,        # 全結合層は層（FC）は読み込まない\n",
        "                    weights='imagenet',       # ImageNetで学習した重みを利用\n",
        "                    input_shape=(img_h, img_w, channels) # 入力データの形状\n",
        "                   )\n",
        "\n",
        "# VGG16モデルのサマリを出力\n",
        "print('VGG19モデルのサマリ')\n",
        "vgg19_model.summary()\n",
        "\n",
        "# VGG19のblock1_conv1からblock4_poolまでを凍結\n",
        "# block5のみを学習可能にする\n",
        "vgg19_model.trainable = True\n",
        "set_trainable = False\n",
        "for layer in vgg19_model.layers:\n",
        "    if layer.name == 'block5_conv1':\n",
        "        set_trainable = True\n",
        "    if set_trainable:        \n",
        "        layer.trainable = True\n",
        "    else:\n",
        "        layer.trainable = False\n",
        "    \n",
        "## 凍結後のサマリを出力\n",
        "print('凍結後のサマリ')\n",
        "vgg19_model.summary()\n",
        "\n",
        "## VGG19モデルと独自のFC層を連結した計算モデルを構築\n",
        "# Sequentialオブジェクトを生成\n",
        "model = Sequential()\n",
        "\n",
        "# VGG19モデルを追加\n",
        "model.add(vgg19_model)\n",
        "# Flatten層\n",
        "model.add(Flatten())\n",
        "# 全結合層\n",
        "model.add(Dense(256,                 # ニューロン数は256\n",
        "                activation='relu'    # 活性化関数はReLU\n",
        "                ))\n",
        "#出力層\n",
        "model.add(Dense(1, activation='sigmoid', name='sigmoid'))\n",
        "\n",
        "# VGG19に独自のFC層を結合したモデルのサマリを出力\n",
        "print('結合後のサマリ')\n",
        "model.summary()   \n",
        "     \n",
        "     \n",
        "     \n",
        "  "
      ],
      "execution_count": null,
      "outputs": [
        {
          "output_type": "stream",
          "text": [
            "Downloading data from https://storage.googleapis.com/tensorflow/keras-applications/vgg19/vgg19_weights_tf_dim_ordering_tf_kernels_notop.h5\n",
            "80142336/80134624 [==============================] - 1s 0us/step\n",
            "VGG19モデルのサマリ\n",
            "Model: \"vgg19\"\n",
            "_________________________________________________________________\n",
            "Layer (type)                 Output Shape              Param #   \n",
            "=================================================================\n",
            "input_1 (InputLayer)         [(None, 400, 400, 3)]     0         \n",
            "_________________________________________________________________\n",
            "block1_conv1 (Conv2D)        (None, 400, 400, 64)      1792      \n",
            "_________________________________________________________________\n",
            "block1_conv2 (Conv2D)        (None, 400, 400, 64)      36928     \n",
            "_________________________________________________________________\n",
            "block1_pool (MaxPooling2D)   (None, 200, 200, 64)      0         \n",
            "_________________________________________________________________\n",
            "block2_conv1 (Conv2D)        (None, 200, 200, 128)     73856     \n",
            "_________________________________________________________________\n",
            "block2_conv2 (Conv2D)        (None, 200, 200, 128)     147584    \n",
            "_________________________________________________________________\n",
            "block2_pool (MaxPooling2D)   (None, 100, 100, 128)     0         \n",
            "_________________________________________________________________\n",
            "block3_conv1 (Conv2D)        (None, 100, 100, 256)     295168    \n",
            "_________________________________________________________________\n",
            "block3_conv2 (Conv2D)        (None, 100, 100, 256)     590080    \n",
            "_________________________________________________________________\n",
            "block3_conv3 (Conv2D)        (None, 100, 100, 256)     590080    \n",
            "_________________________________________________________________\n",
            "block3_conv4 (Conv2D)        (None, 100, 100, 256)     590080    \n",
            "_________________________________________________________________\n",
            "block3_pool (MaxPooling2D)   (None, 50, 50, 256)       0         \n",
            "_________________________________________________________________\n",
            "block4_conv1 (Conv2D)        (None, 50, 50, 512)       1180160   \n",
            "_________________________________________________________________\n",
            "block4_conv2 (Conv2D)        (None, 50, 50, 512)       2359808   \n",
            "_________________________________________________________________\n",
            "block4_conv3 (Conv2D)        (None, 50, 50, 512)       2359808   \n",
            "_________________________________________________________________\n",
            "block4_conv4 (Conv2D)        (None, 50, 50, 512)       2359808   \n",
            "_________________________________________________________________\n",
            "block4_pool (MaxPooling2D)   (None, 25, 25, 512)       0         \n",
            "_________________________________________________________________\n",
            "block5_conv1 (Conv2D)        (None, 25, 25, 512)       2359808   \n",
            "_________________________________________________________________\n",
            "block5_conv2 (Conv2D)        (None, 25, 25, 512)       2359808   \n",
            "_________________________________________________________________\n",
            "block5_conv3 (Conv2D)        (None, 25, 25, 512)       2359808   \n",
            "_________________________________________________________________\n",
            "block5_conv4 (Conv2D)        (None, 25, 25, 512)       2359808   \n",
            "_________________________________________________________________\n",
            "block5_pool (MaxPooling2D)   (None, 12, 12, 512)       0         \n",
            "=================================================================\n",
            "Total params: 20,024,384\n",
            "Trainable params: 20,024,384\n",
            "Non-trainable params: 0\n",
            "_________________________________________________________________\n",
            "凍結後のサマリ\n",
            "Model: \"vgg19\"\n",
            "_________________________________________________________________\n",
            "Layer (type)                 Output Shape              Param #   \n",
            "=================================================================\n",
            "input_1 (InputLayer)         [(None, 400, 400, 3)]     0         \n",
            "_________________________________________________________________\n",
            "block1_conv1 (Conv2D)        (None, 400, 400, 64)      1792      \n",
            "_________________________________________________________________\n",
            "block1_conv2 (Conv2D)        (None, 400, 400, 64)      36928     \n",
            "_________________________________________________________________\n",
            "block1_pool (MaxPooling2D)   (None, 200, 200, 64)      0         \n",
            "_________________________________________________________________\n",
            "block2_conv1 (Conv2D)        (None, 200, 200, 128)     73856     \n",
            "_________________________________________________________________\n",
            "block2_conv2 (Conv2D)        (None, 200, 200, 128)     147584    \n",
            "_________________________________________________________________\n",
            "block2_pool (MaxPooling2D)   (None, 100, 100, 128)     0         \n",
            "_________________________________________________________________\n",
            "block3_conv1 (Conv2D)        (None, 100, 100, 256)     295168    \n",
            "_________________________________________________________________\n",
            "block3_conv2 (Conv2D)        (None, 100, 100, 256)     590080    \n",
            "_________________________________________________________________\n",
            "block3_conv3 (Conv2D)        (None, 100, 100, 256)     590080    \n",
            "_________________________________________________________________\n",
            "block3_conv4 (Conv2D)        (None, 100, 100, 256)     590080    \n",
            "_________________________________________________________________\n",
            "block3_pool (MaxPooling2D)   (None, 50, 50, 256)       0         \n",
            "_________________________________________________________________\n",
            "block4_conv1 (Conv2D)        (None, 50, 50, 512)       1180160   \n",
            "_________________________________________________________________\n",
            "block4_conv2 (Conv2D)        (None, 50, 50, 512)       2359808   \n",
            "_________________________________________________________________\n",
            "block4_conv3 (Conv2D)        (None, 50, 50, 512)       2359808   \n",
            "_________________________________________________________________\n",
            "block4_conv4 (Conv2D)        (None, 50, 50, 512)       2359808   \n",
            "_________________________________________________________________\n",
            "block4_pool (MaxPooling2D)   (None, 25, 25, 512)       0         \n",
            "_________________________________________________________________\n",
            "block5_conv1 (Conv2D)        (None, 25, 25, 512)       2359808   \n",
            "_________________________________________________________________\n",
            "block5_conv2 (Conv2D)        (None, 25, 25, 512)       2359808   \n",
            "_________________________________________________________________\n",
            "block5_conv3 (Conv2D)        (None, 25, 25, 512)       2359808   \n",
            "_________________________________________________________________\n",
            "block5_conv4 (Conv2D)        (None, 25, 25, 512)       2359808   \n",
            "_________________________________________________________________\n",
            "block5_pool (MaxPooling2D)   (None, 12, 12, 512)       0         \n",
            "=================================================================\n",
            "Total params: 20,024,384\n",
            "Trainable params: 9,439,232\n",
            "Non-trainable params: 10,585,152\n",
            "_________________________________________________________________\n",
            "結合後のサマリ\n",
            "Model: \"sequential\"\n",
            "_________________________________________________________________\n",
            "Layer (type)                 Output Shape              Param #   \n",
            "=================================================================\n",
            "vgg19 (Functional)           (None, 12, 12, 512)       20024384  \n",
            "_________________________________________________________________\n",
            "flatten (Flatten)            (None, 73728)             0         \n",
            "_________________________________________________________________\n",
            "dense (Dense)                (None, 256)               18874624  \n",
            "_________________________________________________________________\n",
            "sigmoid (Dense)              (None, 1)                 257       \n",
            "=================================================================\n",
            "Total params: 38,899,265\n",
            "Trainable params: 28,314,113\n",
            "Non-trainable params: 10,585,152\n",
            "_________________________________________________________________\n"
          ],
          "name": "stdout"
        }
      ]
    },
    {
      "cell_type": "code",
      "metadata": {
        "id": "Swj3r46OsC61",
        "colab_type": "code",
        "colab": {}
      },
      "source": [
        "## モデルのコンパイル\n",
        "# 最適化はRMSpropで行う\n",
        "# 学習率を小さくしたのはファインチューニングを\n",
        "\n",
        "model.compile(loss='binary_crossentropy',\n",
        "              optimizer=optimizers.RMSprop(lr=1e-5),\n",
        "              metrics=['accuracy'])"
      ],
      "execution_count": null,
      "outputs": []
    },
    {
      "cell_type": "code",
      "metadata": {
        "id": "bNUtYM7c09px",
        "colab_type": "code",
        "colab": {
          "base_uri": "https://localhost:8080/",
          "height": 35
        },
        "outputId": "7e9efa6c-5e30-4cd1-ac71-ab24eacf363a"
      },
      "source": [
        "%pwd"
      ],
      "execution_count": null,
      "outputs": [
        {
          "output_type": "execute_result",
          "data": {
            "application/vnd.google.colaboratory.intrinsic+json": {
              "type": "string"
            },
            "text/plain": [
              "'/content'"
            ]
          },
          "metadata": {
            "tags": []
          },
          "execution_count": 8
        }
      ]
    },
    {
      "cell_type": "markdown",
      "metadata": {
        "id": "lfuYrVr6yzjq",
        "colab_type": "text"
      },
      "source": [
        "##第２章　データ拡張"
      ]
    },
    {
      "cell_type": "code",
      "metadata": {
        "id": "HHM8zUDzzEdw",
        "colab_type": "code",
        "colab": {
          "base_uri": "https://localhost:8080/",
          "height": 51
        },
        "outputId": "63a46235-4db6-47c9-abd0-761e09837ec1"
      },
      "source": [
        "img_h, img_w = 400,400\n",
        "channels = 3\n",
        "batch_size = 30               # ミニバッチのサイズ\n",
        "\n",
        "#train_data_dir = 'content/data/train' # 訓練データのフォルダー\n",
        "#validation_data_dir = 'content/data/validation' # テストデータのフォルダー\n",
        "#result_dir = 'results'        # VGG16の出力結果を保存するフォルダー  \n",
        "\n",
        "\n",
        "## 訓練データを読み込むジェネレーターを生成\n",
        "# データ拡張を行う\n",
        "train_datagen = ImageDataGenerator(\n",
        "    rescale=1.0 / 255,\n",
        "    rotation_range=40,     # 40度の範囲でランダムに回転させる\n",
        "    width_shift_range=0.2,  # 横サイズの0.2の割合でランダムに水平移動\n",
        "    height_shift_range=0.2, # 縦サイズの0.2の割合でランダムに垂直移動\n",
        "    horizontal_flip=True,   # 水平方向にランダムに反転、左右の入れ替え\n",
        "    vertical_flip=True,\n",
        "    zoom_range=0.8,         # ランダムに拡大\n",
        "    shear_range=0.2         # シアー変換をかける\n",
        ")\n",
        "\n",
        "\n",
        "# Dog vs Catの訓練データを生成するするジェネレーター\n",
        "train_generator = train_datagen.flow_from_directory(\n",
        "    train_data_dir,             # 訓練データのフォルダー\n",
        "    target_size=(img_h, img_w), # 画像をリサイズ\n",
        "    batch_size=batch_size,      # ミニバッチのサイズ\n",
        "    class_mode='binary'         # 出力層は二値のラベルが必要\n",
        ")\n",
        "\n",
        "\n",
        "## テストデータを読み込むジェネレーターを生成\n",
        "test_datagen = ImageDataGenerator(rescale=1.0 / 255)\n",
        "\n",
        "\n",
        "# Dog vs Catのテストデータを生成するするジェネレーター\n",
        "validation_generator = test_datagen.flow_from_directory(\n",
        "    validation_data_dir,        # テストデータのフォルダー\n",
        "    target_size=(img_h, img_w), # 画像をリサイズ\n",
        "    batch_size=batch_size,      # ミニバッチのサイズ\n",
        "    class_mode='binary'         # 出力層は二値のラベルが必要\n",
        ")"
      ],
      "execution_count": null,
      "outputs": [
        {
          "output_type": "stream",
          "text": [
            "Found 5026 images belonging to 2 classes.\n",
            "Found 2904 images belonging to 2 classes.\n"
          ],
          "name": "stdout"
        }
      ]
    },
    {
      "cell_type": "code",
      "metadata": {
        "id": "KA0aK21zVi5Y",
        "colab_type": "code",
        "colab": {
          "base_uri": "https://localhost:8080/",
          "height": 51
        },
        "outputId": "425ce5d0-01f1-4a37-ed10-411d7a42d5a7"
      },
      "source": [
        "type(train_generator)\n",
        "print(train_generator.class_indices)\n",
        "print(validation_generator.class_indices)\n"
      ],
      "execution_count": null,
      "outputs": [
        {
          "output_type": "stream",
          "text": [
            "{'benign': 0, 'malignant': 1}\n",
            "{'benign': 0, 'malignant': 1}\n"
          ],
          "name": "stdout"
        }
      ]
    },
    {
      "cell_type": "markdown",
      "metadata": {
        "id": "Kw95xWwPPLlk",
        "colab_type": "text"
      },
      "source": [
        "## 第３章　Model Fitting"
      ]
    },
    {
      "cell_type": "code",
      "metadata": {
        "id": "J6YaPZukfl9x",
        "colab_type": "code",
        "colab": {
          "base_uri": "https://localhost:8080/",
          "height": 1000
        },
        "outputId": "f18471ad-d962-481f-923b-8fc18591ef11"
      },
      "source": [
        "epochs=50\n",
        "num_train = 5026\n",
        "num_validation = 2904\n",
        "\n",
        "## 学習を行う\n",
        "\n",
        "# 訓練データのジェネレーターのサイズ\n",
        "print(len(train_generator))\n",
        "# 訓練データの数をミニバッチのサイズで割った値\n",
        "print(num_train//batch_size)\n",
        "# テストデータのジェネレーターのサイズ\n",
        "print(len(validation_generator))\n",
        "# テストデータの数をミニバッチのサイズで割った値\n",
        "print(num_validation//batch_size)\n",
        "\n",
        "# モデルのファインチューニング\n",
        "history = model.fit(\n",
        "    \n",
        "    # 訓練データのジェネレーター\n",
        "    train_generator,\n",
        "    # 各エポックにおけるステップ数として\n",
        "    # 訓練データの数をミニバッチのサイズで割った値を指定\n",
        "    steps_per_epoch=num_train//batch_size,\n",
        "    # エポック数（学習回数）\n",
        "    epochs=epochs,\n",
        "    # テストデータのジェネレーター\n",
        "    validation_data=validation_generator,\n",
        "    # テストにおける各エポックにおけるステップ数として\n",
        "    # テストデータの数をミニバッチのサイズで割った値を指定\n",
        "    validation_steps=num_validation//batch_size\n",
        ")"
      ],
      "execution_count": null,
      "outputs": [
        {
          "output_type": "stream",
          "text": [
            "168\n",
            "167\n",
            "97\n",
            "96\n",
            "Epoch 1/50\n",
            "167/167 [==============================] - 3319s 20s/step - loss: 0.5397 - accuracy: 0.7378 - val_loss: 0.6184 - val_accuracy: 0.6931\n",
            "Epoch 2/50\n",
            "167/167 [==============================] - 307s 2s/step - loss: 0.4451 - accuracy: 0.7878 - val_loss: 0.5141 - val_accuracy: 0.7569\n",
            "Epoch 3/50\n",
            "167/167 [==============================] - 297s 2s/step - loss: 0.4008 - accuracy: 0.8199 - val_loss: 0.4434 - val_accuracy: 0.8024\n",
            "Epoch 4/50\n",
            "167/167 [==============================] - 289s 2s/step - loss: 0.3577 - accuracy: 0.8465 - val_loss: 0.4083 - val_accuracy: 0.8295\n",
            "Epoch 5/50\n",
            "167/167 [==============================] - 291s 2s/step - loss: 0.3289 - accuracy: 0.8593 - val_loss: 0.5272 - val_accuracy: 0.8076\n",
            "Epoch 6/50\n",
            "167/167 [==============================] - 284s 2s/step - loss: 0.3301 - accuracy: 0.8667 - val_loss: 0.4217 - val_accuracy: 0.8295\n",
            "Epoch 7/50\n",
            "167/167 [==============================] - 282s 2s/step - loss: 0.3071 - accuracy: 0.8757 - val_loss: 0.4918 - val_accuracy: 0.7948\n",
            "Epoch 8/50\n",
            "167/167 [==============================] - 281s 2s/step - loss: 0.2913 - accuracy: 0.8859 - val_loss: 0.4853 - val_accuracy: 0.8208\n",
            "Epoch 9/50\n",
            "167/167 [==============================] - 283s 2s/step - loss: 0.2769 - accuracy: 0.8941 - val_loss: 0.6387 - val_accuracy: 0.7708\n",
            "Epoch 10/50\n",
            "167/167 [==============================] - 286s 2s/step - loss: 0.2762 - accuracy: 0.8889 - val_loss: 0.4315 - val_accuracy: 0.8281\n",
            "Epoch 11/50\n",
            "167/167 [==============================] - 286s 2s/step - loss: 0.2782 - accuracy: 0.8925 - val_loss: 0.4332 - val_accuracy: 0.8444\n",
            "Epoch 12/50\n",
            "167/167 [==============================] - 284s 2s/step - loss: 0.2592 - accuracy: 0.8969 - val_loss: 0.4197 - val_accuracy: 0.8330\n",
            "Epoch 13/50\n",
            "167/167 [==============================] - 286s 2s/step - loss: 0.2511 - accuracy: 0.9007 - val_loss: 0.4350 - val_accuracy: 0.8201\n",
            "Epoch 14/50\n",
            "167/167 [==============================] - 282s 2s/step - loss: 0.2451 - accuracy: 0.9059 - val_loss: 0.4057 - val_accuracy: 0.8497\n",
            "Epoch 15/50\n",
            "167/167 [==============================] - 284s 2s/step - loss: 0.2407 - accuracy: 0.9071 - val_loss: 0.4914 - val_accuracy: 0.8163\n",
            "Epoch 16/50\n",
            "167/167 [==============================] - 282s 2s/step - loss: 0.2298 - accuracy: 0.9129 - val_loss: 0.3990 - val_accuracy: 0.8319\n",
            "Epoch 17/50\n",
            "167/167 [==============================] - 284s 2s/step - loss: 0.2388 - accuracy: 0.9069 - val_loss: 0.8370 - val_accuracy: 0.7392\n",
            "Epoch 18/50\n",
            "167/167 [==============================] - 287s 2s/step - loss: 0.2240 - accuracy: 0.9173 - val_loss: 0.4523 - val_accuracy: 0.8337\n",
            "Epoch 19/50\n",
            "167/167 [==============================] - 286s 2s/step - loss: 0.2220 - accuracy: 0.9153 - val_loss: 0.3878 - val_accuracy: 0.8576\n",
            "Epoch 20/50\n",
            "167/167 [==============================] - 282s 2s/step - loss: 0.2079 - accuracy: 0.9213 - val_loss: 0.6784 - val_accuracy: 0.7937\n",
            "Epoch 21/50\n",
            "167/167 [==============================] - 286s 2s/step - loss: 0.2042 - accuracy: 0.9231 - val_loss: 0.5339 - val_accuracy: 0.8368\n",
            "Epoch 22/50\n",
            "167/167 [==============================] - 291s 2s/step - loss: 0.2045 - accuracy: 0.9217 - val_loss: 0.6805 - val_accuracy: 0.7962\n",
            "Epoch 23/50\n",
            "167/167 [==============================] - 285s 2s/step - loss: 0.1922 - accuracy: 0.9259 - val_loss: 0.4525 - val_accuracy: 0.8361\n",
            "Epoch 24/50\n",
            "167/167 [==============================] - 287s 2s/step - loss: 0.1976 - accuracy: 0.9259 - val_loss: 0.4006 - val_accuracy: 0.8503\n",
            "Epoch 25/50\n",
            "167/167 [==============================] - 290s 2s/step - loss: 0.1933 - accuracy: 0.9255 - val_loss: 0.4947 - val_accuracy: 0.8486\n",
            "Epoch 26/50\n",
            "167/167 [==============================] - 285s 2s/step - loss: 0.1886 - accuracy: 0.9273 - val_loss: 0.7500 - val_accuracy: 0.8010\n",
            "Epoch 27/50\n",
            "167/167 [==============================] - 284s 2s/step - loss: 0.1940 - accuracy: 0.9279 - val_loss: 0.4027 - val_accuracy: 0.8524\n",
            "Epoch 28/50\n",
            "167/167 [==============================] - 289s 2s/step - loss: 0.1918 - accuracy: 0.9233 - val_loss: 0.6061 - val_accuracy: 0.8378\n",
            "Epoch 29/50\n",
            "167/167 [==============================] - 283s 2s/step - loss: 0.1795 - accuracy: 0.9261 - val_loss: 0.7312 - val_accuracy: 0.8333\n",
            "Epoch 30/50\n",
            "167/167 [==============================] - 290s 2s/step - loss: 0.1794 - accuracy: 0.9347 - val_loss: 0.6501 - val_accuracy: 0.8267\n",
            "Epoch 31/50\n",
            "167/167 [==============================] - 291s 2s/step - loss: 0.1747 - accuracy: 0.9327 - val_loss: 0.4396 - val_accuracy: 0.8646\n",
            "Epoch 32/50\n",
            "167/167 [==============================] - 291s 2s/step - loss: 0.1709 - accuracy: 0.9357 - val_loss: 0.6325 - val_accuracy: 0.8292\n",
            "Epoch 33/50\n",
            "167/167 [==============================] - 290s 2s/step - loss: 0.1750 - accuracy: 0.9313 - val_loss: 0.5048 - val_accuracy: 0.8472\n",
            "Epoch 34/50\n",
            "167/167 [==============================] - 285s 2s/step - loss: 0.1709 - accuracy: 0.9319 - val_loss: 0.4820 - val_accuracy: 0.8601\n",
            "Epoch 35/50\n",
            "167/167 [==============================] - 287s 2s/step - loss: 0.1685 - accuracy: 0.9349 - val_loss: 0.4569 - val_accuracy: 0.8549\n",
            "Epoch 36/50\n",
            "167/167 [==============================] - 288s 2s/step - loss: 0.1679 - accuracy: 0.9378 - val_loss: 0.5664 - val_accuracy: 0.8528\n",
            "Epoch 37/50\n",
            "167/167 [==============================] - 283s 2s/step - loss: 0.1677 - accuracy: 0.9359 - val_loss: 0.5378 - val_accuracy: 0.8316\n",
            "Epoch 38/50\n",
            "167/167 [==============================] - 282s 2s/step - loss: 0.1557 - accuracy: 0.9416 - val_loss: 0.6292 - val_accuracy: 0.8517\n",
            "Epoch 39/50\n",
            "167/167 [==============================] - 282s 2s/step - loss: 0.1606 - accuracy: 0.9408 - val_loss: 0.6372 - val_accuracy: 0.8340\n",
            "Epoch 40/50\n",
            "167/167 [==============================] - 283s 2s/step - loss: 0.1587 - accuracy: 0.9398 - val_loss: 0.5360 - val_accuracy: 0.8576\n",
            "Epoch 41/50\n",
            "167/167 [==============================] - 284s 2s/step - loss: 0.1680 - accuracy: 0.9404 - val_loss: 0.5119 - val_accuracy: 0.8465\n",
            "Epoch 42/50\n",
            "167/167 [==============================] - 285s 2s/step - loss: 0.1599 - accuracy: 0.9406 - val_loss: 0.5635 - val_accuracy: 0.8351\n",
            "Epoch 43/50\n",
            "167/167 [==============================] - 282s 2s/step - loss: 0.1500 - accuracy: 0.9424 - val_loss: 1.6633 - val_accuracy: 0.7729\n",
            "Epoch 44/50\n",
            "167/167 [==============================] - 286s 2s/step - loss: 0.1559 - accuracy: 0.9386 - val_loss: 0.6047 - val_accuracy: 0.8222\n",
            "Epoch 45/50\n",
            "167/167 [==============================] - 285s 2s/step - loss: 0.1586 - accuracy: 0.9404 - val_loss: 0.6161 - val_accuracy: 0.8368\n",
            "Epoch 46/50\n",
            "167/167 [==============================] - 282s 2s/step - loss: 0.1552 - accuracy: 0.9432 - val_loss: 1.0048 - val_accuracy: 0.7819\n",
            "Epoch 47/50\n",
            "167/167 [==============================] - 283s 2s/step - loss: 0.1469 - accuracy: 0.9408 - val_loss: 0.5939 - val_accuracy: 0.8528\n",
            "Epoch 48/50\n",
            "167/167 [==============================] - 292s 2s/step - loss: 0.1522 - accuracy: 0.9448 - val_loss: 0.5779 - val_accuracy: 0.8583\n",
            "Epoch 49/50\n",
            "167/167 [==============================] - 298s 2s/step - loss: 0.1547 - accuracy: 0.9426 - val_loss: 0.5599 - val_accuracy: 0.8656\n",
            "Epoch 50/50\n",
            "167/167 [==============================] - 299s 2s/step - loss: 0.1473 - accuracy: 0.9468 - val_loss: 0.7219 - val_accuracy: 0.8562\n"
          ],
          "name": "stdout"
        }
      ]
    },
    {
      "cell_type": "code",
      "metadata": {
        "id": "maVWQmC3Phtt",
        "colab_type": "code",
        "colab": {}
      },
      "source": [
        "result_dir = '/content/gdrive/My Drive/Colab Notebooks/BreakHis/results'  \n",
        "\n",
        "\n",
        "with open(os.path.join(result_dir,'breakhis_vgg19model.json'),'w') as json_file:\n",
        "  json_file.write(model.to_json())\n",
        "\n",
        "#model parameter save\n",
        "model.save_weights(os.path.join(result_dir,'breakhis_vgg19parameter.h5'))\n",
        "\n",
        "\n",
        "# model save\n",
        "model.save(os.path.join(result_dir,'breakhis_vgg19model_parameter.h5'))\n",
        "\n",
        "import pandas as pd\n",
        "\n",
        "df_history=pd.DataFrame(history.history)\n",
        "\n",
        "df_history.to_pickle(os.path.join(result_dir,'historyvgg19.pkl'))"
      ],
      "execution_count": null,
      "outputs": []
    },
    {
      "cell_type": "code",
      "metadata": {
        "id": "Go5ZshvNdEUY",
        "colab_type": "code",
        "colab": {
          "base_uri": "https://localhost:8080/",
          "height": 34
        },
        "outputId": "b948323a-b537-47d5-d5a1-3b5f83bede9a"
      },
      "source": [
        "type(history)\n",
        "history.history\n",
        "type(history.history)"
      ],
      "execution_count": null,
      "outputs": [
        {
          "output_type": "execute_result",
          "data": {
            "text/plain": [
              "dict"
            ]
          },
          "metadata": {
            "tags": []
          },
          "execution_count": 13
        }
      ]
    },
    {
      "cell_type": "code",
      "metadata": {
        "id": "3ggTwUkDQ0ep",
        "colab_type": "code",
        "colab": {
          "base_uri": "https://localhost:8080/",
          "height": 34
        },
        "outputId": "14a3f9d0-f7cf-4f07-ab07-a35b7271fdf8"
      },
      "source": [
        "np.mean(history.history['accuracy'][45:50])"
      ],
      "execution_count": null,
      "outputs": [
        {
          "output_type": "execute_result",
          "data": {
            "text/plain": [
              "0.9435948729515076"
            ]
          },
          "metadata": {
            "tags": []
          },
          "execution_count": 14
        }
      ]
    },
    {
      "cell_type": "code",
      "metadata": {
        "id": "WPDj4NS3Regk",
        "colab_type": "code",
        "colab": {
          "base_uri": "https://localhost:8080/",
          "height": 34
        },
        "outputId": "7662cc4b-dd32-4b42-df47-f730f2eac6eb"
      },
      "source": [
        "np.mean(history.history['val_accuracy'][45:50])"
      ],
      "execution_count": null,
      "outputs": [
        {
          "output_type": "execute_result",
          "data": {
            "text/plain": [
              "0.8429861187934875"
            ]
          },
          "metadata": {
            "tags": []
          },
          "execution_count": 15
        }
      ]
    },
    {
      "cell_type": "markdown",
      "metadata": {
        "id": "xkMWot8gQW-2",
        "colab_type": "text"
      },
      "source": [
        "##【考察】\n",
        "epochが、46番から50番までの精度の平均値を算出すると、  \n",
        "訓練データ：精度：94.35 ％  \n",
        "テストデータ：精度：84.30％  \n",
        "であった。\n",
        " このことから、このVGG19モデルのファインチューニング法により構築されたモデルは、十分に妥当であると考えられる。"
      ]
    },
    {
      "cell_type": "markdown",
      "metadata": {
        "id": "JQpfKaV4PbEY",
        "colab_type": "text"
      },
      "source": [
        "##第４章　モデルの評価"
      ]
    },
    {
      "cell_type": "code",
      "metadata": {
        "id": "Z7D3UdojdEUe",
        "colab_type": "code",
        "colab": {
          "base_uri": "https://localhost:8080/",
          "height": 573
        },
        "outputId": "bf9f4e04-9f77-4d21-d747-8a74683f0cfc"
      },
      "source": [
        "%matplotlib inline\n",
        "import matplotlib.pyplot as plt\n",
        "\n",
        "def plot_acc_loss(history):\n",
        "    # 精度の推移をプロット\n",
        "    plt.plot(history.history['accuracy'],\"-\",label=\"accuracy\")\n",
        "    plt.plot(history.history['val_accuracy'],\"-\",label=\"val_acc\")\n",
        "    plt.title('accuracy')\n",
        "    plt.xlabel('epoch')\n",
        "    plt.ylabel('accuracy')\n",
        "    plt.legend(loc=\"lower right\")\n",
        "    plt.show()\n",
        "\n",
        "    # 損失の推移をプロット\n",
        "    plt.plot(history.history['loss'],\"-\",label=\"loss\",)\n",
        "    plt.plot(history.history['val_loss'],\"-\",label=\"val_loss\")\n",
        "    plt.title('loss')\n",
        "    plt.xlabel('epoch')\n",
        "    plt.ylabel('loss')\n",
        "    plt.legend(loc='upper right')\n",
        "    plt.show()\n",
        "    \n",
        "# 損失と精度をグラフに出力\n",
        "plot_acc_loss(history)"
      ],
      "execution_count": null,
      "outputs": [
        {
          "output_type": "display_data",
          "data": {
            "image/png": "[encoded data removed]",
            "text/plain": [
              "<Figure size 432x288 with 1 Axes>"
            ]
          },
          "metadata": {
            "tags": [],
            "needs_background": "light"
          }
        },
        {
          "output_type": "display_data",
          "data": {
            "image/png": "[encoded data removed]",
            "text/plain": [
              "<Figure size 432x288 with 1 Axes>"
            ]
          },
          "metadata": {
            "tags": [],
            "needs_background": "light"
          }
        }
      ]
    }
  ]
}