{
  "nbformat": 4,
  "nbformat_minor": 0,
  "metadata": {
    "kernelspec": {
      "display_name": "Python 3",
      "language": "python",
      "name": "python3"
    },
    "language_info": {
      "codemirror_mode": {
        "name": "ipython",
        "version": 3
      },
      "file_extension": ".py",
      "mimetype": "text/x-python",
      "name": "python",
      "nbconvert_exporter": "python",
      "pygments_lexer": "ipython3",
      "version": "3.6.10"
    },
    "colab": {
      "name": "BreakHis_VGG19_feature_extraction.ipynb",
      "provenance": [],
      "collapsed_sections": [],
      "include_colab_link": true
    },
    "accelerator": "GPU"
  },
  "cells": [
    {
      "cell_type": "markdown",
      "metadata": {
        "id": "view-in-github",
        "colab_type": "text"
      },
      "source": [
        "<a href=\"https://colab.research.google.com/github/146790g/VGG19-BreakHis/blob/master/BreakHis_VGG19_feature_extraction.ipynb\" target=\"_parent\"><img src=\"https://colab.research.google.com/assets/colab-badge.svg\" alt=\"Open In Colab\"/></a>"
      ]
    },
    {
      "cell_type": "markdown",
      "metadata": {
        "id": "Aos1i1OBdV3W",
        "colab_type": "text"
      },
      "source": [
        "# 深層学習 VGG19モデルを用いた乳がん染色画像（BreakHis）の解析\n",
        "#（その３ : Image Feature Extraction ）\n",
        "# Deep Learning for Magnification Independent Breast Cancer Histopathology\n",
        "\n",
        "<br>\n",
        "\n",
        "# Image Classification using VGG19 Model - Image Feature Extraction\n",
        "\n",
        "<br>\n",
        "\n",
        "\n",
        "<h2>対象データは、こちらをクリック ☞　</>\n",
        "<a href='https://www.kaggle.com/ambarish/breakhis'>Kaggle BreakHis Data</a>\n",
        "\n",
        "４つのMagnification levelのデータをすべて合算して、解析する\n",
        "\n",
        "<br>\n",
        "\n",
        "## 4 Magnification Levels: ×40, ×100, ×200, ×400\n",
        "\n",
        "\n",
        "During analysis and annotation, pathologists starts by identifying ROIs in\n",
        "the lowest magnification level slide (×40), then dives deeper in the latter using higher magnification levels (×100, ×200) until having a profound insight\n",
        "(×400). \n",
        "\n",
        "<br>\n",
        "\n",
        "## データ数 の概要\n",
        "\n",
        "・Training Data: 5026 images <br>\n",
        "  -- Benign Data: 1472 images <br>\n",
        "  -- Mallignant Data: 3554 images \n",
        "\n",
        "・Validation Data: 2904 images <br>\n",
        "  -- Benign Data: 1008 images <br>\n",
        "  -- Mallignant Data:1896 images <br>\n",
        "\n",
        "## Data Set Details by Magnification levels.\n",
        "\n",
        " ×40 : <br>\n",
        "×100 : <br>\n",
        "×200 : <br>\n",
        "×400 : <br>"
      ]
    },
    {
      "cell_type": "code",
      "metadata": {
        "id": "MjZpD7wcfTPA",
        "colab_type": "code",
        "colab": {}
      },
      "source": [
        "%tensorflow_version 2.x"
      ],
      "execution_count": 3,
      "outputs": []
    },
    {
      "cell_type": "code",
      "metadata": {
        "id": "dIVAoJRwTq1x",
        "colab_type": "code",
        "colab": {
          "base_uri": "https://localhost:8080/",
          "height": 122
        },
        "outputId": "cdd1f698-3a2a-43d2-a39f-a803376a9c69"
      },
      "source": [
        "%pwd\n",
        "from google.colab import drive\n",
        "drive.mount('/content/gdrive')"
      ],
      "execution_count": 4,
      "outputs": [
        {
          "output_type": "stream",
          "text": [
            "Go to this URL in a browser: https://accounts.google.com/o/oauth2/auth?client_id=947318989803-6bn6qk8qdgf4n4g3pfee6491hc0brc4i.apps.googleusercontent.com&redirect_uri=urn%3aietf%3awg%3aoauth%3a2.0%3aoob&scope=email%20https%3a%2f%2fwww.googleapis.com%2fauth%2fdocs.test%20https%3a%2f%2fwww.googleapis.com%2fauth%2fdrive%20https%3a%2f%2fwww.googleapis.com%2fauth%2fdrive.photos.readonly%20https%3a%2f%2fwww.googleapis.com%2fauth%2fpeopleapi.readonly&response_type=code\n",
            "\n",
            "Enter your authorization code:\n",
            "··········\n",
            "Mounted at /content/gdrive\n"
          ],
          "name": "stdout"
        }
      ]
    },
    {
      "cell_type": "code",
      "metadata": {
        "id": "mjdqpKr_VU7-",
        "colab_type": "code",
        "colab": {
          "base_uri": "https://localhost:8080/",
          "height": 68
        },
        "outputId": "f7475b76-465a-4b6f-88dd-b82b4d8bda34"
      },
      "source": [
        "!ls -lh '/content/gdrive/My Drive/Colab Notebooks/BreakHis/data'"
      ],
      "execution_count": 5,
      "outputs": [
        {
          "output_type": "stream",
          "text": [
            "total 8.0K\n",
            "drwx------ 2 root root 4.0K Jul 21 03:42 train\n",
            "drwx------ 2 root root 4.0K Jul 27 01:49 validation\n"
          ],
          "name": "stdout"
        }
      ]
    },
    {
      "cell_type": "code",
      "metadata": {
        "id": "PM4Bw3tFdESi",
        "colab_type": "code",
        "colab": {}
      },
      "source": [
        "from keras.applications.vgg19 import VGG19\n",
        "from keras.preprocessing.image import ImageDataGenerator,load_img\n",
        "import numpy as np\n",
        "import os\n",
        "#import Pillow\n",
        "#from PIL import Image\n",
        "#import opencv\n",
        "from PIL import Image\n",
        "from keras.preprocessing.image import load_img, save_img, img_to_array, array_to_img\n",
        "import numpy as np\n",
        "from pandas import DataFrame\n",
        "import matplotlib.pyplot as plt\n",
        "\n",
        "import tensorflow as tf\n",
        "from tensorflow.keras import layers, models, initializers\n",
        "\n",
        "from keras.models import Sequential, Model\n",
        "from keras.layers import Input, Activation, Dropout, Flatten, Dense\n",
        "from keras.preprocessing.image import ImageDataGenerator\n",
        "from keras import optimizers\n",
        "import numpy as np\n",
        "import matplotlib.pyplot as plt\n",
        "import matplotlib.image as mpimg\n",
        "from keras.applications.vgg19 import VGG19\n",
        "from keras.models import Sequential, Model\n",
        "from keras.layers import Input, Activation, Dropout, Flatten, Dense\n",
        "from keras.preprocessing import image\n",
        "import numpy as np\n",
        "from keras.models import load_model\n",
        "\n",
        "    \n"
      ],
      "execution_count": 6,
      "outputs": []
    },
    {
      "cell_type": "markdown",
      "metadata": {
        "id": "QlxAzC96Ztzt",
        "colab_type": "text"
      },
      "source": [
        "## 第６章 特徴データの抽出\n"
      ]
    },
    {
      "cell_type": "markdown",
      "metadata": {
        "id": "UUF0kdiS8RhZ",
        "colab_type": "text"
      },
      "source": [
        "### テストデータの正常組織の画像のすべてを4階テンソルの配列データに変換する"
      ]
    },
    {
      "cell_type": "code",
      "metadata": {
        "id": "UMFeHWA64J1v",
        "colab_type": "code",
        "colab": {
          "base_uri": "https://localhost:8080/",
          "height": 51
        },
        "outputId": "71a3e538-3399-4027-c004-eff8d37b74cb"
      },
      "source": [
        "train_data_dir = '/content/gdrive/My Drive/Colab Notebooks/BreakHis/data/train' # 訓練データのフォルダー\n",
        "validation_data_dir = '/content/gdrive/My Drive/Colab Notebooks/BreakHis/data/validation' # テストデータのフォルダー\n",
        "result_dir = '/content/gdrive/My Drive/Colab Notebooks/BreakHis/results'        # VGG19の出力結果を保存するフォルダー\n",
        "test_dir = '/content/gdrive/My Drive/Colab Notebooks/BreakHis/test'\n",
        "    \n",
        "import os \n",
        "\n",
        "files=os.listdir(os.path.join(test_dir,'benign'))\n",
        "\n",
        "test_img_array_list = []\n",
        "\n",
        "for img in files:\n",
        "  \n",
        "    file=os.path.join(test_dir,'benign', img)\n",
        "    temp_img = load_img(file,target_size=(400,400))\n",
        "\n",
        "    #PIL形式からNumpy配列に変換と正規化(400, 400, 3)\n",
        "    temp_img_array = img_to_array(temp_img) /255\n",
        "\n",
        "    #変換したNumpy配列を末尾に追加\n",
        "    test_img_array_list.append(temp_img_array)\n",
        "\n",
        "    \n",
        "import numpy as np\n",
        "\n",
        "\n",
        "test_benign = np.array(test_img_array_list)\n",
        "\n",
        "print(type(test_benign))\n",
        "print(test_benign.shape)\n"
      ],
      "execution_count": 9,
      "outputs": [
        {
          "output_type": "stream",
          "text": [
            "<class 'numpy.ndarray'>\n",
            "(60, 400, 400, 3)\n"
          ],
          "name": "stdout"
        }
      ]
    },
    {
      "cell_type": "markdown",
      "metadata": {
        "id": "ilRWJkQ3HKTY",
        "colab_type": "text"
      },
      "source": [
        "###  テストデータのうち、乳癌組織の画像データを4階のテンソルの配列データに変換する"
      ]
    },
    {
      "cell_type": "code",
      "metadata": {
        "id": "tOllhmWuaKBk",
        "colab_type": "code",
        "colab": {
          "base_uri": "https://localhost:8080/",
          "height": 51
        },
        "outputId": "b0113a2a-ee34-4dcd-eca5-8e1e19294871"
      },
      "source": [
        "import os \n",
        "\n",
        "files=os.listdir(os.path.join(test_dir,'malignant'))\n",
        "\n",
        "test_img_array_list = []\n",
        "\n",
        "for img in files:\n",
        "  \n",
        "    file=os.path.join(test_dir,'malignant', img)\n",
        "    temp_img = load_img(file,target_size=(400,400))\n",
        "\n",
        "    #PIL形式からNumpy配列に変換と正規化(400, 400, 3)\n",
        "    temp_img_array = img_to_array(temp_img) /255\n",
        "\n",
        "    #変換したNumpy配列を末尾に追加\n",
        "    test_img_array_list.append(temp_img_array)\n",
        "\n",
        "    \n",
        "import numpy as np\n",
        "\n",
        "\n",
        "test_malignant = np.array(test_img_array_list)\n",
        "\n",
        "print(type(test_malignant))\n",
        "print(test_malignant.shape)"
      ],
      "execution_count": 11,
      "outputs": [
        {
          "output_type": "stream",
          "text": [
            "<class 'numpy.ndarray'>\n",
            "(75, 400, 400, 3)\n"
          ],
          "name": "stdout"
        }
      ]
    },
    {
      "cell_type": "markdown",
      "metadata": {
        "id": "brksfKqLH5vd",
        "colab_type": "text"
      },
      "source": [
        "### 4階テンソルデータに基づいて、特徴データを抽出する"
      ]
    },
    {
      "cell_type": "code",
      "metadata": {
        "id": "AbKIwf6HfmT0",
        "colab_type": "code",
        "colab": {
          "base_uri": "https://localhost:8080/",
          "height": 34
        },
        "outputId": "4b7e80c7-24da-4b13-ee02-37464ec10b64"
      },
      "source": [
        "import matplotlib.pyplot as plt\n",
        "import matplotlib.image as mpimg\n",
        "from keras.applications.vgg19 import VGG19\n",
        "from keras.models import Sequential, Model\n",
        "from keras.layers import Input, Activation, Dropout, Flatten, Dense\n",
        "from keras.preprocessing import image\n",
        "import numpy as np\n",
        "from keras.models import load_model\n",
        "\n",
        "model=load_model(os.path.join(result_dir,'breakhis_vgg19model_parameter.h5'))\n",
        "\n",
        "layer_outputs = model.get_layer('dense').output\n",
        "\n",
        "model2 = models.Model(inputs=model.input, outputs=layer_outputs)\n",
        "\n",
        "\n",
        "# 正常組織の特徴量データ\n",
        "dense_output_benign =model2.predict(test_benign)\n",
        "\n",
        "#乳癌組織の特徴量データ\n",
        "dense_output_malignant=model2.predict(test_malignant)\n",
        "\n",
        "# 合算して、特徴量データをfeatureと命名する\n",
        "\n",
        "feature = np.concatenate([dense_output_benign, dense_output_malignant], axis=0)\n",
        "\n",
        "print(feature.shape)"
      ],
      "execution_count": 21,
      "outputs": [
        {
          "output_type": "stream",
          "text": [
            "(135, 256)\n"
          ],
          "name": "stdout"
        }
      ]
    },
    {
      "cell_type": "markdown",
      "metadata": {
        "id": "V9ICWRV2LfkP",
        "colab_type": "text"
      },
      "source": [
        "### ラベルデータを作成する"
      ]
    },
    {
      "cell_type": "code",
      "metadata": {
        "id": "YVMh5U10SMzQ",
        "colab_type": "code",
        "colab": {
          "base_uri": "https://localhost:8080/",
          "height": 102
        },
        "outputId": "b7534e07-3fc1-4507-9adf-f099636fc3ce"
      },
      "source": [
        "l1 = [0] * 60\n",
        "l2= [1]*75\n",
        "label=l1+l2\n",
        "\n",
        "labeld=np.array(label)\n",
        "\n",
        "print(labeld.shape)\n",
        "print(labeld)\n",
        "\n",
        "\n"
      ],
      "execution_count": 52,
      "outputs": [
        {
          "output_type": "stream",
          "text": [
            "(135,)\n",
            "[0 0 0 0 0 0 0 0 0 0 0 0 0 0 0 0 0 0 0 0 0 0 0 0 0 0 0 0 0 0 0 0 0 0 0 0 0\n",
            " 0 0 0 0 0 0 0 0 0 0 0 0 0 0 0 0 0 0 0 0 0 0 0 1 1 1 1 1 1 1 1 1 1 1 1 1 1\n",
            " 1 1 1 1 1 1 1 1 1 1 1 1 1 1 1 1 1 1 1 1 1 1 1 1 1 1 1 1 1 1 1 1 1 1 1 1 1\n",
            " 1 1 1 1 1 1 1 1 1 1 1 1 1 1 1 1 1 1 1 1 1 1 1 1]\n"
          ],
          "name": "stdout"
        }
      ]
    },
    {
      "cell_type": "markdown",
      "metadata": {
        "id": "Hhf_ORNRUeJz",
        "colab_type": "text"
      },
      "source": [
        "### 特徴量データに基づいて、tSNEプロットを作成する"
      ]
    },
    {
      "cell_type": "code",
      "metadata": {
        "id": "DQbS_wkXPG5l",
        "colab_type": "code",
        "colab": {
          "base_uri": "https://localhost:8080/",
          "height": 1000
        },
        "outputId": "b53565f1-4ad2-4909-c5f7-69dfee3b3a2c"
      },
      "source": [
        "from sklearn.manifold import TSNE\n",
        "digits2d = TSNE(n_components=2).fit_transform(feature)\n",
        "\n",
        "print(digits2d)\n",
        "print(digits2d.shape)"
      ],
      "execution_count": 53,
      "outputs": [
        {
          "output_type": "stream",
          "text": [
            "[[-7.84222424e-01  1.12138438e+00]\n",
            " [-5.85731077e+00 -2.70905828e+00]\n",
            " [-1.53479087e+00  4.07335711e+00]\n",
            " [-1.98808277e+00  4.66628122e+00]\n",
            " [ 3.04658699e+00  1.00671406e+01]\n",
            " [ 4.05044889e+00  1.14574900e+01]\n",
            " [ 6.03734236e-03  1.61850893e+00]\n",
            " [ 1.68369591e+00  8.51485062e+00]\n",
            " [ 1.14226604e+00  8.81165791e+00]\n",
            " [ 4.90793228e+00  1.03796663e+01]\n",
            " [ 1.96507931e+00  8.62656307e+00]\n",
            " [ 2.65068024e-01  7.40385437e+00]\n",
            " [ 1.92053652e+00  9.31626320e+00]\n",
            " [ 5.13166809e+00  1.09186926e+01]\n",
            " [ 2.24238276e+00  9.56262207e+00]\n",
            " [-1.86994600e+00  7.79171467e-01]\n",
            " [ 4.76760417e-01  8.62444210e+00]\n",
            " [-4.71001816e+00  3.33771658e+00]\n",
            " [-1.46606135e+00  4.84674835e+00]\n",
            " [ 3.82575512e+00  1.03671951e+01]\n",
            " [-4.56899069e-02  8.46242428e+00]\n",
            " [ 2.83745170e+00  9.70630074e+00]\n",
            " [ 5.36282444e+00  9.24415398e+00]\n",
            " [-5.35786033e-01  7.01934910e+00]\n",
            " [ 1.98082733e+00  9.91138363e+00]\n",
            " [-2.72759408e-01  5.70522070e+00]\n",
            " [ 5.36982584e+00  1.11672392e+01]\n",
            " [-2.09080979e-01  1.20236969e+00]\n",
            " [ 3.84419608e+00  1.08723841e+01]\n",
            " [ 6.39012432e+00  8.87515259e+00]\n",
            " [ 6.36777020e+00  8.88567066e+00]\n",
            " [-3.48836708e+00  2.33457470e+00]\n",
            " [-6.60620481e-02  7.26447678e+00]\n",
            " [ 1.39867711e+00  7.51422405e+00]\n",
            " [ 2.59240627e-01  4.86665869e+00]\n",
            " [ 9.13496375e-01  8.38676643e+00]\n",
            " [ 3.53314924e+00  9.46526337e+00]\n",
            " [-6.03269637e-01  8.16773415e+00]\n",
            " [-9.37316120e-01  2.06073952e+00]\n",
            " [ 4.64768219e+00  9.80389404e+00]\n",
            " [-6.62413311e+00 -2.54615879e+00]\n",
            " [ 1.03459880e-01  7.36373377e+00]\n",
            " [-2.73311555e-01  6.21614218e+00]\n",
            " [-1.04802981e-01  4.46811485e+00]\n",
            " [ 1.36946821e+00  5.82367229e+00]\n",
            " [-5.95557630e-01  3.79339314e+00]\n",
            " [ 1.89825916e+00  6.05584478e+00]\n",
            " [ 7.56008804e-01  7.95889378e+00]\n",
            " [-4.01989937e+00  2.72016913e-01]\n",
            " [ 4.19461584e+00  1.12889929e+01]\n",
            " [-1.21667039e+00  9.04557228e+00]\n",
            " [ 7.48710275e-01  9.69721031e+00]\n",
            " [ 2.46583128e+00  9.89761257e+00]\n",
            " [ 6.84970498e-01  4.33658266e+00]\n",
            " [ 4.29005957e+00  9.88403320e+00]\n",
            " [ 2.02330891e-02  8.81788826e+00]\n",
            " [ 8.35583448e-01  3.83362627e+00]\n",
            " [ 3.61426854e+00  1.04305449e+01]\n",
            " [ 5.68405330e-01  6.41709852e+00]\n",
            " [ 5.90515709e+00  9.12063694e+00]\n",
            " [-6.04106808e+00  4.26880598e-01]\n",
            " [-5.63974762e+00 -9.07704353e-01]\n",
            " [-8.35335159e+00 -5.77113438e+00]\n",
            " [-6.01838398e+00  5.25381029e-01]\n",
            " [-6.79976177e+00 -7.23346055e-01]\n",
            " [-5.63205671e+00  1.33391750e+00]\n",
            " [-7.37243700e+00 -2.30352449e+00]\n",
            " [-8.31996441e+00 -4.17170286e+00]\n",
            " [-8.59160328e+00 -3.07449365e+00]\n",
            " [-4.92876291e-01  1.76625419e+00]\n",
            " [-7.41303349e+00 -4.95771980e+00]\n",
            " [-7.94628572e+00 -3.54795551e+00]\n",
            " [-6.17824650e+00 -1.00917482e+00]\n",
            " [-6.34592354e-01  1.41616297e+00]\n",
            " [-3.29586148e+00  2.77302003e+00]\n",
            " [-2.34452677e+00  2.81334043e+00]\n",
            " [-9.17253685e+00 -3.97783852e+00]\n",
            " [-9.01562309e+00 -6.31412220e+00]\n",
            " [-1.03840494e+01 -5.48981810e+00]\n",
            " [ 1.02333581e+00  7.97890139e+00]\n",
            " [-1.08809948e+01 -8.73331070e+00]\n",
            " [-3.43310642e+00  4.45092535e+00]\n",
            " [-6.80993414e+00 -1.34170699e+00]\n",
            " [-5.85064697e+00 -1.69904685e+00]\n",
            " [-1.02466431e+01 -5.14947462e+00]\n",
            " [-4.46759796e+00  2.17062306e+00]\n",
            " [-5.48488235e+00  6.90069854e-01]\n",
            " [-1.08263483e+01 -8.31544304e+00]\n",
            " [-4.94137001e+00  2.46371895e-01]\n",
            " [-8.42236423e+00 -2.03242588e+00]\n",
            " [-1.05501804e+01 -6.90034103e+00]\n",
            " [-7.68787575e+00 -3.16229463e+00]\n",
            " [-1.08683538e+01 -8.57954884e+00]\n",
            " [-7.89249039e+00 -1.77364981e+00]\n",
            " [-1.04402027e+01 -7.15586615e+00]\n",
            " [-2.79361510e+00  3.05194211e+00]\n",
            " [-8.26119614e+00 -2.84611201e+00]\n",
            " [-4.92198038e+00 -9.21122074e-01]\n",
            " [-7.47109032e+00 -3.36901593e+00]\n",
            " [-8.07560062e+00 -4.99240351e+00]\n",
            " [-2.46222973e+00  5.46391535e+00]\n",
            " [-3.93570042e+00  3.09496236e+00]\n",
            " [-1.01092005e+01 -6.86622763e+00]\n",
            " [ 2.05391601e-01  9.52113152e+00]\n",
            " [-1.07621183e+01 -7.42881012e+00]\n",
            " [-9.65367126e+00 -4.66011715e+00]\n",
            " [-6.27429438e+00 -5.71224153e-01]\n",
            " [-7.06861067e+00 -1.46428013e+00]\n",
            " [-5.38804770e+00  1.63586199e-01]\n",
            " [-1.09035835e+01 -8.98577404e+00]\n",
            " [-8.86909676e+00 -4.57375193e+00]\n",
            " [-9.25540161e+00 -4.35933065e+00]\n",
            " [-2.53941917e+00  3.95387769e+00]\n",
            " [-5.66303444e+00  8.90140235e-02]\n",
            " [-7.45772696e+00 -1.22207594e+00]\n",
            " [-3.56142044e+00  4.03575897e+00]\n",
            " [-1.02320862e+01 -6.22395086e+00]\n",
            " [-1.75436246e+00  6.45636702e+00]\n",
            " [-1.02617435e+01 -6.19881916e+00]\n",
            " [-8.16292667e+00 -3.10004568e+00]\n",
            " [-9.19238472e+00 -4.27358580e+00]\n",
            " [-5.38537073e+00 -5.28541207e-01]\n",
            " [-8.22427368e+00 -6.49272949e-02]\n",
            " [-4.58578444e+00  1.52405655e+00]\n",
            " [-8.42204285e+00 -5.22550535e+00]\n",
            " [ 9.99685407e-01  9.12701130e+00]\n",
            " [-6.69194221e+00 -5.43387294e-01]\n",
            " [-5.57074785e+00 -1.47767290e-01]\n",
            " [-6.32695293e+00 -1.43442893e+00]\n",
            " [-5.07617283e+00  1.52659035e+00]\n",
            " [-2.55720925e+00  3.61443710e+00]\n",
            " [-9.19552231e+00 -4.98707628e+00]\n",
            " [-8.88626289e+00 -6.02530098e+00]\n",
            " [-4.18914652e+00  2.64603853e+00]\n",
            " [-4.23649454e+00  1.89152634e+00]]\n",
            "(135, 2)\n"
          ],
          "name": "stdout"
        }
      ]
    },
    {
      "cell_type": "code",
      "metadata": {
        "id": "djCgp57mS1ul",
        "colab_type": "code",
        "colab": {
          "base_uri": "https://localhost:8080/",
          "height": 607
        },
        "outputId": "f8b0eeed-8301-4bbb-d513-91567f33330a"
      },
      "source": [
        "f, ax = plt.subplots(1, 1, figsize=(10, 10))\n",
        "\n",
        "name=['benign','malignant']\n",
        "\n",
        "for i in range(2):\n",
        "  target = digits2d[labeld == i]\n",
        "  ax.scatter(x=target[:, 0], y=target[:, 1], label=name[i], alpha=0.5)\n",
        "  plt.legend(bbox_to_anchor=(1.02, 1), loc='upper left')\n",
        "  plt.title('tSNE Plot')"
      ],
      "execution_count": 55,
      "outputs": [
        {
          "output_type": "display_data",
          "data": {
            "image/png": "[encoded data removed]",
            "text/plain": [
              "<Figure size 720x720 with 1 Axes>"
            ]
          },
          "metadata": {
            "tags": [],
            "needs_background": "light"
          }
        }
      ]
    },
    {
      "cell_type": "markdown",
      "metadata": {
        "id": "JEMj9vV4ZJli",
        "colab_type": "text"
      },
      "source": [
        "## 【考察】\n",
        "\n",
        "特徴量データに基づいて、tSNEプロットを作成したところ、正常と乳癌組織で、ほぼ的確に、分類されることが確認された。\n",
        "画像データを、特徴量データのデジタルデータに変換することで、そのほかのRNAseqデータ等と統合的に解析できる道が開かれた。"
      ]
    }
  ]
}